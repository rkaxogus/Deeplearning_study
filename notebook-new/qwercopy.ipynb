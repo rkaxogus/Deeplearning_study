{
 "cells": [
  {
   "cell_type": "code",
   "execution_count": 1,
   "metadata": {},
   "outputs": [
    {
     "name": "stdout",
     "output_type": "stream",
     "text": [
      "✅ 학습 데이터 JSON 저장 완료: C:/Users/user/OneDrive/Desktop/Resnet182-real/jsonnew\\trainqwercopy.json\n",
      "✅ 검증 데이터 JSON 저장 완료: C:/Users/user/OneDrive/Desktop/Resnet182-real/jsonnew\\valqwercopy.json\n",
      "✅ 테스트 데이터 JSON 저장 완료: C:/Users/user/OneDrive/Desktop/Resnet182-real/jsonnew\\testqwercopy.json\n"
     ]
    },
    {
     "name": "stderr",
     "output_type": "stream",
     "text": [
      "C:\\Users\\user\\AppData\\Local\\Temp\\ipykernel_14308\\3320214146.py:110: FutureWarning: `torch.cuda.amp.GradScaler(args...)` is deprecated. Please use `torch.amp.GradScaler('cuda', args...)` instead.\n",
      "  scaler = GradScaler()\n"
     ]
    },
    {
     "name": "stdout",
     "output_type": "stream",
     "text": [
      "\n",
      "📢 Training Started! Logging Every Epoch:\n",
      "\n"
     ]
    },
    {
     "name": "stderr",
     "output_type": "stream",
     "text": [
      "📢 Epoch [1/1000] 시작:   0%|          | 0/149 [00:00<?, ?it/s]C:\\Users\\user\\AppData\\Local\\Temp\\ipykernel_14308\\3320214146.py:148: FutureWarning: `torch.cuda.amp.autocast(args...)` is deprecated. Please use `torch.amp.autocast('cuda', args...)` instead.\n",
      "  with autocast():\n",
      "📢 Epoch [1/1000] 시작: 100%|██████████| 149/149 [01:08<00:00,  2.17it/s]\n"
     ]
    },
    {
     "name": "stdout",
     "output_type": "stream",
     "text": [
      "✅ 새로운 최고 검증 정확도 0.9018 (Loss: 0.3151) 달성! 모델 저장됨 (에포크 1)\n",
      "   🎯 Train Accuracy: 0.7749 | 📉 Train Loss: 0.7226 | 🎯 Valid Accuracy: 0.9018 | 📉 Valid Loss: 0.3151\n"
     ]
    },
    {
     "name": "stderr",
     "output_type": "stream",
     "text": [
      "📢 Epoch [2/1000] 시작: 100%|██████████| 149/149 [01:03<00:00,  2.36it/s]\n"
     ]
    },
    {
     "name": "stdout",
     "output_type": "stream",
     "text": [
      "✅ 새로운 최고 검증 정확도 0.9054 (Loss: 0.3263) 달성! 모델 저장됨 (에포크 2)\n",
      "   🎯 Train Accuracy: 0.8935 | 📉 Train Loss: 0.3372 | 🎯 Valid Accuracy: 0.9054 | 📉 Valid Loss: 0.3263\n"
     ]
    },
    {
     "name": "stderr",
     "output_type": "stream",
     "text": [
      "📢 Epoch [3/1000] 시작: 100%|██████████| 149/149 [01:02<00:00,  2.38it/s]\n"
     ]
    },
    {
     "name": "stdout",
     "output_type": "stream",
     "text": [
      "   🎯 Train Accuracy: 0.9299 | 📉 Train Loss: 0.2199 | 🎯 Valid Accuracy: 0.8878 | 📉 Valid Loss: 0.4057\n"
     ]
    },
    {
     "name": "stderr",
     "output_type": "stream",
     "text": [
      "📢 Epoch [4/1000] 시작: 100%|██████████| 149/149 [01:01<00:00,  2.44it/s]\n"
     ]
    },
    {
     "name": "stdout",
     "output_type": "stream",
     "text": [
      "   🎯 Train Accuracy: 0.9436 | 📉 Train Loss: 0.1779 | 🎯 Valid Accuracy: 0.8981 | 📉 Valid Loss: 0.3653\n"
     ]
    },
    {
     "name": "stderr",
     "output_type": "stream",
     "text": [
      "📢 Epoch [5/1000] 시작: 100%|██████████| 149/149 [01:01<00:00,  2.44it/s]\n"
     ]
    },
    {
     "name": "stdout",
     "output_type": "stream",
     "text": [
      "   🎯 Train Accuracy: 0.9562 | 📉 Train Loss: 0.1369 | 🎯 Valid Accuracy: 0.8959 | 📉 Valid Loss: 0.3737\n"
     ]
    },
    {
     "name": "stderr",
     "output_type": "stream",
     "text": [
      "📢 Epoch [6/1000] 시작: 100%|██████████| 149/149 [01:01<00:00,  2.44it/s]\n"
     ]
    },
    {
     "name": "stdout",
     "output_type": "stream",
     "text": [
      "✅ 새로운 최고 검증 정확도 0.9150 (Loss: 0.3094) 달성! 모델 저장됨 (에포크 6)\n",
      "   🎯 Train Accuracy: 0.9629 | 📉 Train Loss: 0.1283 | 🎯 Valid Accuracy: 0.9150 | 📉 Valid Loss: 0.3094\n"
     ]
    },
    {
     "name": "stderr",
     "output_type": "stream",
     "text": [
      "📢 Epoch [7/1000] 시작: 100%|██████████| 149/149 [01:01<00:00,  2.42it/s]\n"
     ]
    },
    {
     "name": "stdout",
     "output_type": "stream",
     "text": [
      "   🎯 Train Accuracy: 0.9632 | 📉 Train Loss: 0.1131 | 🎯 Valid Accuracy: 0.8959 | 📉 Valid Loss: 0.3772\n"
     ]
    },
    {
     "name": "stderr",
     "output_type": "stream",
     "text": [
      "📢 Epoch [8/1000] 시작: 100%|██████████| 149/149 [01:02<00:00,  2.39it/s]\n"
     ]
    },
    {
     "name": "stdout",
     "output_type": "stream",
     "text": [
      "✅ 새로운 최고 검증 정확도 0.9157 (Loss: 0.3241) 달성! 모델 저장됨 (에포크 8)\n",
      "   🎯 Train Accuracy: 0.9627 | 📉 Train Loss: 0.1221 | 🎯 Valid Accuracy: 0.9157 | 📉 Valid Loss: 0.3241\n"
     ]
    },
    {
     "name": "stderr",
     "output_type": "stream",
     "text": [
      "📢 Epoch [9/1000] 시작: 100%|██████████| 149/149 [01:03<00:00,  2.36it/s]\n"
     ]
    },
    {
     "name": "stdout",
     "output_type": "stream",
     "text": [
      "   🎯 Train Accuracy: 0.9707 | 📉 Train Loss: 0.0816 | 🎯 Valid Accuracy: 0.9106 | 📉 Valid Loss: 0.3688\n"
     ]
    },
    {
     "name": "stderr",
     "output_type": "stream",
     "text": [
      "📢 Epoch [10/1000] 시작: 100%|██████████| 149/149 [01:03<00:00,  2.33it/s]\n"
     ]
    },
    {
     "name": "stdout",
     "output_type": "stream",
     "text": [
      "   🎯 Train Accuracy: 0.9775 | 📉 Train Loss: 0.0752 | 🎯 Valid Accuracy: 0.9142 | 📉 Valid Loss: 0.3297\n"
     ]
    },
    {
     "name": "stderr",
     "output_type": "stream",
     "text": [
      "📢 Epoch [11/1000] 시작: 100%|██████████| 149/149 [01:00<00:00,  2.47it/s]\n"
     ]
    },
    {
     "name": "stdout",
     "output_type": "stream",
     "text": [
      "✅ 새로운 최고 검증 정확도 0.9333 (Loss: 0.2631) 달성! 모델 저장됨 (에포크 11)\n",
      "   🎯 Train Accuracy: 0.9874 | 📉 Train Loss: 0.0400 | 🎯 Valid Accuracy: 0.9333 | 📉 Valid Loss: 0.2631\n"
     ]
    },
    {
     "name": "stderr",
     "output_type": "stream",
     "text": [
      "📢 Epoch [12/1000] 시작: 100%|██████████| 149/149 [00:59<00:00,  2.48it/s]\n"
     ]
    },
    {
     "name": "stdout",
     "output_type": "stream",
     "text": [
      "   🎯 Train Accuracy: 0.9922 | 📉 Train Loss: 0.0232 | 🎯 Valid Accuracy: 0.9267 | 📉 Valid Loss: 0.3169\n"
     ]
    },
    {
     "name": "stderr",
     "output_type": "stream",
     "text": [
      "📢 Epoch [13/1000] 시작: 100%|██████████| 149/149 [01:01<00:00,  2.44it/s]\n"
     ]
    },
    {
     "name": "stdout",
     "output_type": "stream",
     "text": [
      "✅ 새로운 최고 검증 정확도 0.9348 (Loss: 0.2876) 달성! 모델 저장됨 (에포크 13)\n",
      "   🎯 Train Accuracy: 0.9922 | 📉 Train Loss: 0.0220 | 🎯 Valid Accuracy: 0.9348 | 📉 Valid Loss: 0.2876\n"
     ]
    },
    {
     "name": "stderr",
     "output_type": "stream",
     "text": [
      "📢 Epoch [14/1000] 시작: 100%|██████████| 149/149 [01:04<00:00,  2.33it/s]\n"
     ]
    },
    {
     "name": "stdout",
     "output_type": "stream",
     "text": [
      "✅ 새로운 최고 검증 정확도 0.9377 (Loss: 0.2810) 달성! 모델 저장됨 (에포크 14)\n",
      "   🎯 Train Accuracy: 0.9939 | 📉 Train Loss: 0.0189 | 🎯 Valid Accuracy: 0.9377 | 📉 Valid Loss: 0.2810\n"
     ]
    },
    {
     "name": "stderr",
     "output_type": "stream",
     "text": [
      "📢 Epoch [15/1000] 시작: 100%|██████████| 149/149 [01:00<00:00,  2.47it/s]\n"
     ]
    },
    {
     "name": "stdout",
     "output_type": "stream",
     "text": [
      "   🎯 Train Accuracy: 0.9903 | 📉 Train Loss: 0.0288 | 🎯 Valid Accuracy: 0.9311 | 📉 Valid Loss: 0.2927\n"
     ]
    },
    {
     "name": "stderr",
     "output_type": "stream",
     "text": [
      "📢 Epoch [16/1000] 시작: 100%|██████████| 149/149 [00:59<00:00,  2.51it/s]\n"
     ]
    },
    {
     "name": "stdout",
     "output_type": "stream",
     "text": [
      "   🎯 Train Accuracy: 0.9914 | 📉 Train Loss: 0.0312 | 🎯 Valid Accuracy: 0.9230 | 📉 Valid Loss: 0.3343\n"
     ]
    },
    {
     "name": "stderr",
     "output_type": "stream",
     "text": [
      "📢 Epoch [17/1000] 시작: 100%|██████████| 149/149 [00:59<00:00,  2.49it/s]\n"
     ]
    },
    {
     "name": "stdout",
     "output_type": "stream",
     "text": [
      "   🎯 Train Accuracy: 0.9922 | 📉 Train Loss: 0.0270 | 🎯 Valid Accuracy: 0.9282 | 📉 Valid Loss: 0.2907\n"
     ]
    },
    {
     "name": "stderr",
     "output_type": "stream",
     "text": [
      "📢 Epoch [18/1000] 시작: 100%|██████████| 149/149 [00:59<00:00,  2.49it/s]\n"
     ]
    },
    {
     "name": "stdout",
     "output_type": "stream",
     "text": [
      "   🎯 Train Accuracy: 0.9853 | 📉 Train Loss: 0.0502 | 🎯 Valid Accuracy: 0.9164 | 📉 Valid Loss: 0.3625\n"
     ]
    },
    {
     "name": "stderr",
     "output_type": "stream",
     "text": [
      "📢 Epoch [19/1000] 시작: 100%|██████████| 149/149 [00:59<00:00,  2.49it/s]\n"
     ]
    },
    {
     "name": "stdout",
     "output_type": "stream",
     "text": [
      "   🎯 Train Accuracy: 0.9878 | 📉 Train Loss: 0.0403 | 🎯 Valid Accuracy: 0.9304 | 📉 Valid Loss: 0.3384\n"
     ]
    },
    {
     "name": "stderr",
     "output_type": "stream",
     "text": [
      "📢 Epoch [20/1000] 시작: 100%|██████████| 149/149 [01:00<00:00,  2.47it/s]\n"
     ]
    },
    {
     "name": "stdout",
     "output_type": "stream",
     "text": [
      "✅ 새로운 최고 검증 정확도 0.9391 (Loss: 0.2916) 달성! 모델 저장됨 (에포크 20)\n",
      "   🎯 Train Accuracy: 0.9882 | 📉 Train Loss: 0.0359 | 🎯 Valid Accuracy: 0.9391 | 📉 Valid Loss: 0.2916\n"
     ]
    },
    {
     "name": "stderr",
     "output_type": "stream",
     "text": [
      "📢 Epoch [21/1000] 시작: 100%|██████████| 149/149 [01:01<00:00,  2.43it/s]\n"
     ]
    },
    {
     "name": "stdout",
     "output_type": "stream",
     "text": [
      "   🎯 Train Accuracy: 0.9937 | 📉 Train Loss: 0.0193 | 🎯 Valid Accuracy: 0.9377 | 📉 Valid Loss: 0.2513\n"
     ]
    },
    {
     "name": "stderr",
     "output_type": "stream",
     "text": [
      "📢 Epoch [22/1000] 시작: 100%|██████████| 149/149 [01:03<00:00,  2.35it/s]\n"
     ]
    },
    {
     "name": "stdout",
     "output_type": "stream",
     "text": [
      "   🎯 Train Accuracy: 0.9977 | 📉 Train Loss: 0.0087 | 🎯 Valid Accuracy: 0.9362 | 📉 Valid Loss: 0.2494\n"
     ]
    },
    {
     "name": "stderr",
     "output_type": "stream",
     "text": [
      "📢 Epoch [23/1000] 시작: 100%|██████████| 149/149 [01:01<00:00,  2.43it/s]\n"
     ]
    },
    {
     "name": "stdout",
     "output_type": "stream",
     "text": [
      "   🎯 Train Accuracy: 0.9977 | 📉 Train Loss: 0.0089 | 🎯 Valid Accuracy: 0.9289 | 📉 Valid Loss: 0.3373\n"
     ]
    },
    {
     "name": "stderr",
     "output_type": "stream",
     "text": [
      "📢 Epoch [24/1000] 시작: 100%|██████████| 149/149 [01:02<00:00,  2.40it/s]\n"
     ]
    },
    {
     "name": "stdout",
     "output_type": "stream",
     "text": [
      "   🎯 Train Accuracy: 0.9977 | 📉 Train Loss: 0.0066 | 🎯 Valid Accuracy: 0.9318 | 📉 Valid Loss: 0.2919\n"
     ]
    },
    {
     "name": "stderr",
     "output_type": "stream",
     "text": [
      "📢 Epoch [25/1000] 시작: 100%|██████████| 149/149 [01:01<00:00,  2.42it/s]\n"
     ]
    },
    {
     "name": "stdout",
     "output_type": "stream",
     "text": [
      "   🎯 Train Accuracy: 0.9989 | 📉 Train Loss: 0.0081 | 🎯 Valid Accuracy: 0.9348 | 📉 Valid Loss: 0.3000\n"
     ]
    },
    {
     "name": "stderr",
     "output_type": "stream",
     "text": [
      "📢 Epoch [26/1000] 시작: 100%|██████████| 149/149 [01:01<00:00,  2.43it/s]\n"
     ]
    },
    {
     "name": "stdout",
     "output_type": "stream",
     "text": [
      "   🎯 Train Accuracy: 0.9973 | 📉 Train Loss: 0.0100 | 🎯 Valid Accuracy: 0.9348 | 📉 Valid Loss: 0.3454\n"
     ]
    },
    {
     "name": "stderr",
     "output_type": "stream",
     "text": [
      "📢 Epoch [27/1000] 시작: 100%|██████████| 149/149 [01:01<00:00,  2.43it/s]\n"
     ]
    },
    {
     "name": "stdout",
     "output_type": "stream",
     "text": [
      "   🎯 Train Accuracy: 0.9931 | 📉 Train Loss: 0.0227 | 🎯 Valid Accuracy: 0.9062 | 📉 Valid Loss: 0.4326\n"
     ]
    },
    {
     "name": "stderr",
     "output_type": "stream",
     "text": [
      "📢 Epoch [28/1000] 시작: 100%|██████████| 149/149 [01:01<00:00,  2.41it/s]\n"
     ]
    },
    {
     "name": "stdout",
     "output_type": "stream",
     "text": [
      "   🎯 Train Accuracy: 0.9931 | 📉 Train Loss: 0.0271 | 🎯 Valid Accuracy: 0.9274 | 📉 Valid Loss: 0.3028\n"
     ]
    },
    {
     "name": "stderr",
     "output_type": "stream",
     "text": [
      "📢 Epoch [29/1000] 시작: 100%|██████████| 149/149 [01:01<00:00,  2.41it/s]\n"
     ]
    },
    {
     "name": "stdout",
     "output_type": "stream",
     "text": [
      "   🎯 Train Accuracy: 0.9912 | 📉 Train Loss: 0.0284 | 🎯 Valid Accuracy: 0.9150 | 📉 Valid Loss: 0.3903\n"
     ]
    },
    {
     "name": "stderr",
     "output_type": "stream",
     "text": [
      "📢 Epoch [30/1000] 시작: 100%|██████████| 149/149 [01:01<00:00,  2.42it/s]\n"
     ]
    },
    {
     "name": "stdout",
     "output_type": "stream",
     "text": [
      "   🎯 Train Accuracy: 0.9884 | 📉 Train Loss: 0.0343 | 🎯 Valid Accuracy: 0.9348 | 📉 Valid Loss: 0.3213\n"
     ]
    },
    {
     "name": "stderr",
     "output_type": "stream",
     "text": [
      "📢 Epoch [31/1000] 시작: 100%|██████████| 149/149 [01:01<00:00,  2.43it/s]\n"
     ]
    },
    {
     "name": "stdout",
     "output_type": "stream",
     "text": [
      "✅ 새로운 최고 검증 정확도 0.9399 (Loss: 0.2619) 달성! 모델 저장됨 (에포크 31)\n",
      "   🎯 Train Accuracy: 0.9956 | 📉 Train Loss: 0.0156 | 🎯 Valid Accuracy: 0.9399 | 📉 Valid Loss: 0.2619\n"
     ]
    },
    {
     "name": "stderr",
     "output_type": "stream",
     "text": [
      "📢 Epoch [32/1000] 시작: 100%|██████████| 149/149 [01:02<00:00,  2.39it/s]\n"
     ]
    },
    {
     "name": "stdout",
     "output_type": "stream",
     "text": [
      "✅ 새로운 최고 검증 정확도 0.9413 (Loss: 0.2860) 달성! 모델 저장됨 (에포크 32)\n",
      "   🎯 Train Accuracy: 0.9989 | 📉 Train Loss: 0.0053 | 🎯 Valid Accuracy: 0.9413 | 📉 Valid Loss: 0.2860\n"
     ]
    },
    {
     "name": "stderr",
     "output_type": "stream",
     "text": [
      "📢 Epoch [33/1000] 시작: 100%|██████████| 149/149 [01:03<00:00,  2.34it/s]\n"
     ]
    },
    {
     "name": "stdout",
     "output_type": "stream",
     "text": [
      "   🎯 Train Accuracy: 0.9981 | 📉 Train Loss: 0.0052 | 🎯 Valid Accuracy: 0.9362 | 📉 Valid Loss: 0.2953\n"
     ]
    },
    {
     "name": "stderr",
     "output_type": "stream",
     "text": [
      "📢 Epoch [34/1000] 시작: 100%|██████████| 149/149 [01:01<00:00,  2.42it/s]\n"
     ]
    },
    {
     "name": "stdout",
     "output_type": "stream",
     "text": [
      "   🎯 Train Accuracy: 0.9994 | 📉 Train Loss: 0.0028 | 🎯 Valid Accuracy: 0.9348 | 📉 Valid Loss: 0.2951\n"
     ]
    },
    {
     "name": "stderr",
     "output_type": "stream",
     "text": [
      "📢 Epoch [35/1000] 시작: 100%|██████████| 149/149 [01:01<00:00,  2.43it/s]\n"
     ]
    },
    {
     "name": "stdout",
     "output_type": "stream",
     "text": [
      "   🎯 Train Accuracy: 0.9992 | 📉 Train Loss: 0.0032 | 🎯 Valid Accuracy: 0.9348 | 📉 Valid Loss: 0.3157\n"
     ]
    },
    {
     "name": "stderr",
     "output_type": "stream",
     "text": [
      "📢 Epoch [36/1000] 시작: 100%|██████████| 149/149 [01:01<00:00,  2.43it/s]\n"
     ]
    },
    {
     "name": "stdout",
     "output_type": "stream",
     "text": [
      "   🎯 Train Accuracy: 0.9996 | 📉 Train Loss: 0.0018 | 🎯 Valid Accuracy: 0.9355 | 📉 Valid Loss: 0.3362\n"
     ]
    },
    {
     "name": "stderr",
     "output_type": "stream",
     "text": [
      "📢 Epoch [37/1000] 시작: 100%|██████████| 149/149 [01:01<00:00,  2.41it/s]\n"
     ]
    },
    {
     "name": "stdout",
     "output_type": "stream",
     "text": [
      "   🎯 Train Accuracy: 0.9996 | 📉 Train Loss: 0.0017 | 🎯 Valid Accuracy: 0.9377 | 📉 Valid Loss: 0.3092\n"
     ]
    },
    {
     "name": "stderr",
     "output_type": "stream",
     "text": [
      "📢 Epoch [38/1000] 시작: 100%|██████████| 149/149 [01:02<00:00,  2.39it/s]\n"
     ]
    },
    {
     "name": "stdout",
     "output_type": "stream",
     "text": [
      "   🎯 Train Accuracy: 0.9994 | 📉 Train Loss: 0.0013 | 🎯 Valid Accuracy: 0.9348 | 📉 Valid Loss: 0.3105\n"
     ]
    },
    {
     "name": "stderr",
     "output_type": "stream",
     "text": [
      "📢 Epoch [39/1000] 시작: 100%|██████████| 149/149 [01:02<00:00,  2.38it/s]\n"
     ]
    },
    {
     "name": "stdout",
     "output_type": "stream",
     "text": [
      "   🎯 Train Accuracy: 0.9996 | 📉 Train Loss: 0.0012 | 🎯 Valid Accuracy: 0.9362 | 📉 Valid Loss: 0.3147\n"
     ]
    },
    {
     "name": "stderr",
     "output_type": "stream",
     "text": [
      "📢 Epoch [40/1000] 시작: 100%|██████████| 149/149 [01:04<00:00,  2.32it/s]\n"
     ]
    },
    {
     "name": "stdout",
     "output_type": "stream",
     "text": [
      "   🎯 Train Accuracy: 0.9994 | 📉 Train Loss: 0.0026 | 🎯 Valid Accuracy: 0.9326 | 📉 Valid Loss: 0.3213\n"
     ]
    },
    {
     "name": "stderr",
     "output_type": "stream",
     "text": [
      "📢 Epoch [41/1000] 시작: 100%|██████████| 149/149 [01:04<00:00,  2.32it/s]\n"
     ]
    },
    {
     "name": "stdout",
     "output_type": "stream",
     "text": [
      "   🎯 Train Accuracy: 0.9989 | 📉 Train Loss: 0.0023 | 🎯 Valid Accuracy: 0.9384 | 📉 Valid Loss: 0.2917\n"
     ]
    },
    {
     "name": "stderr",
     "output_type": "stream",
     "text": [
      "📢 Epoch [42/1000] 시작: 100%|██████████| 149/149 [01:03<00:00,  2.35it/s]\n"
     ]
    },
    {
     "name": "stdout",
     "output_type": "stream",
     "text": [
      "   🎯 Train Accuracy: 0.9994 | 📉 Train Loss: 0.0022 | 🎯 Valid Accuracy: 0.9348 | 📉 Valid Loss: 0.3028\n"
     ]
    },
    {
     "name": "stderr",
     "output_type": "stream",
     "text": [
      "📢 Epoch [43/1000] 시작: 100%|██████████| 149/149 [01:05<00:00,  2.26it/s]\n"
     ]
    },
    {
     "name": "stdout",
     "output_type": "stream",
     "text": [
      "   🎯 Train Accuracy: 0.9994 | 📉 Train Loss: 0.0026 | 🎯 Valid Accuracy: 0.9377 | 📉 Valid Loss: 0.2977\n"
     ]
    },
    {
     "name": "stderr",
     "output_type": "stream",
     "text": [
      "📢 Epoch [44/1000] 시작: 100%|██████████| 149/149 [01:06<00:00,  2.24it/s]\n"
     ]
    },
    {
     "name": "stdout",
     "output_type": "stream",
     "text": [
      "   🎯 Train Accuracy: 0.9992 | 📉 Train Loss: 0.0029 | 🎯 Valid Accuracy: 0.9391 | 📉 Valid Loss: 0.2960\n"
     ]
    },
    {
     "name": "stderr",
     "output_type": "stream",
     "text": [
      "📢 Epoch [45/1000] 시작: 100%|██████████| 149/149 [01:06<00:00,  2.25it/s]\n"
     ]
    },
    {
     "name": "stdout",
     "output_type": "stream",
     "text": [
      "   🎯 Train Accuracy: 0.9994 | 📉 Train Loss: 0.0025 | 🎯 Valid Accuracy: 0.9406 | 📉 Valid Loss: 0.3110\n"
     ]
    },
    {
     "name": "stderr",
     "output_type": "stream",
     "text": [
      "📢 Epoch [46/1000] 시작: 100%|██████████| 149/149 [01:02<00:00,  2.39it/s]\n"
     ]
    },
    {
     "name": "stdout",
     "output_type": "stream",
     "text": [
      "   🎯 Train Accuracy: 0.9996 | 📉 Train Loss: 0.0030 | 🎯 Valid Accuracy: 0.9333 | 📉 Valid Loss: 0.2998\n"
     ]
    },
    {
     "name": "stderr",
     "output_type": "stream",
     "text": [
      "📢 Epoch [47/1000] 시작: 100%|██████████| 149/149 [01:01<00:00,  2.43it/s]\n"
     ]
    },
    {
     "name": "stdout",
     "output_type": "stream",
     "text": [
      "   🎯 Train Accuracy: 0.9962 | 📉 Train Loss: 0.0104 | 🎯 Valid Accuracy: 0.9348 | 📉 Valid Loss: 0.3034\n"
     ]
    },
    {
     "name": "stderr",
     "output_type": "stream",
     "text": [
      "📢 Epoch [48/1000] 시작: 100%|██████████| 149/149 [01:02<00:00,  2.40it/s]\n"
     ]
    },
    {
     "name": "stdout",
     "output_type": "stream",
     "text": [
      "   🎯 Train Accuracy: 0.9987 | 📉 Train Loss: 0.0032 | 🎯 Valid Accuracy: 0.9370 | 📉 Valid Loss: 0.2714\n"
     ]
    },
    {
     "name": "stderr",
     "output_type": "stream",
     "text": [
      "📢 Epoch [49/1000] 시작: 100%|██████████| 149/149 [01:03<00:00,  2.33it/s]\n"
     ]
    },
    {
     "name": "stdout",
     "output_type": "stream",
     "text": [
      "   🎯 Train Accuracy: 0.9994 | 📉 Train Loss: 0.0022 | 🎯 Valid Accuracy: 0.9326 | 📉 Valid Loss: 0.2938\n"
     ]
    },
    {
     "name": "stderr",
     "output_type": "stream",
     "text": [
      "📢 Epoch [50/1000] 시작: 100%|██████████| 149/149 [01:02<00:00,  2.39it/s]\n"
     ]
    },
    {
     "name": "stdout",
     "output_type": "stream",
     "text": [
      "   🎯 Train Accuracy: 0.9983 | 📉 Train Loss: 0.0037 | 🎯 Valid Accuracy: 0.9333 | 📉 Valid Loss: 0.2906\n"
     ]
    },
    {
     "name": "stderr",
     "output_type": "stream",
     "text": [
      "📢 Epoch [51/1000] 시작: 100%|██████████| 149/149 [01:00<00:00,  2.45it/s]\n"
     ]
    },
    {
     "name": "stdout",
     "output_type": "stream",
     "text": [
      "✅ 새로운 최고 검증 정확도 0.9450 (Loss: 0.2629) 달성! 모델 저장됨 (에포크 51)\n",
      "   🎯 Train Accuracy: 0.9994 | 📉 Train Loss: 0.0020 | 🎯 Valid Accuracy: 0.9450 | 📉 Valid Loss: 0.2629\n"
     ]
    },
    {
     "name": "stderr",
     "output_type": "stream",
     "text": [
      "📢 Epoch [52/1000] 시작: 100%|██████████| 149/149 [01:01<00:00,  2.43it/s]\n"
     ]
    },
    {
     "name": "stdout",
     "output_type": "stream",
     "text": [
      "   🎯 Train Accuracy: 0.9998 | 📉 Train Loss: 0.0010 | 🎯 Valid Accuracy: 0.9443 | 📉 Valid Loss: 0.2579\n"
     ]
    },
    {
     "name": "stderr",
     "output_type": "stream",
     "text": [
      "📢 Epoch [53/1000] 시작: 100%|██████████| 149/149 [01:00<00:00,  2.44it/s]\n"
     ]
    },
    {
     "name": "stdout",
     "output_type": "stream",
     "text": [
      "   🎯 Train Accuracy: 0.9981 | 📉 Train Loss: 0.0051 | 🎯 Valid Accuracy: 0.9421 | 📉 Valid Loss: 0.2641\n"
     ]
    },
    {
     "name": "stderr",
     "output_type": "stream",
     "text": [
      "📢 Epoch [54/1000] 시작: 100%|██████████| 149/149 [01:00<00:00,  2.46it/s]\n"
     ]
    },
    {
     "name": "stdout",
     "output_type": "stream",
     "text": [
      "   🎯 Train Accuracy: 0.9989 | 📉 Train Loss: 0.0024 | 🎯 Valid Accuracy: 0.9428 | 📉 Valid Loss: 0.2554\n"
     ]
    },
    {
     "name": "stderr",
     "output_type": "stream",
     "text": [
      "📢 Epoch [55/1000] 시작: 100%|██████████| 149/149 [01:00<00:00,  2.45it/s]\n"
     ]
    },
    {
     "name": "stdout",
     "output_type": "stream",
     "text": [
      "   🎯 Train Accuracy: 0.9998 | 📉 Train Loss: 0.0010 | 🎯 Valid Accuracy: 0.9413 | 📉 Valid Loss: 0.2630\n"
     ]
    },
    {
     "name": "stderr",
     "output_type": "stream",
     "text": [
      "📢 Epoch [56/1000] 시작: 100%|██████████| 149/149 [01:01<00:00,  2.43it/s]\n"
     ]
    },
    {
     "name": "stdout",
     "output_type": "stream",
     "text": [
      "   🎯 Train Accuracy: 0.9996 | 📉 Train Loss: 0.0012 | 🎯 Valid Accuracy: 0.9435 | 📉 Valid Loss: 0.2613\n"
     ]
    },
    {
     "name": "stderr",
     "output_type": "stream",
     "text": [
      "📢 Epoch [57/1000] 시작: 100%|██████████| 149/149 [01:01<00:00,  2.44it/s]\n"
     ]
    },
    {
     "name": "stdout",
     "output_type": "stream",
     "text": [
      "   🎯 Train Accuracy: 0.9994 | 📉 Train Loss: 0.0022 | 🎯 Valid Accuracy: 0.9406 | 📉 Valid Loss: 0.2924\n"
     ]
    },
    {
     "name": "stderr",
     "output_type": "stream",
     "text": [
      "📢 Epoch [58/1000] 시작: 100%|██████████| 149/149 [01:01<00:00,  2.44it/s]\n"
     ]
    },
    {
     "name": "stdout",
     "output_type": "stream",
     "text": [
      "   🎯 Train Accuracy: 0.9998 | 📉 Train Loss: 0.0008 | 🎯 Valid Accuracy: 0.9421 | 📉 Valid Loss: 0.2511\n"
     ]
    },
    {
     "name": "stderr",
     "output_type": "stream",
     "text": [
      "📢 Epoch [59/1000] 시작: 100%|██████████| 149/149 [01:00<00:00,  2.46it/s]\n"
     ]
    },
    {
     "name": "stdout",
     "output_type": "stream",
     "text": [
      "   🎯 Train Accuracy: 0.9994 | 📉 Train Loss: 0.0016 | 🎯 Valid Accuracy: 0.9421 | 📉 Valid Loss: 0.2718\n"
     ]
    },
    {
     "name": "stderr",
     "output_type": "stream",
     "text": [
      "📢 Epoch [60/1000] 시작: 100%|██████████| 149/149 [01:01<00:00,  2.44it/s]\n"
     ]
    },
    {
     "name": "stdout",
     "output_type": "stream",
     "text": [
      "   🎯 Train Accuracy: 0.9994 | 📉 Train Loss: 0.0024 | 🎯 Valid Accuracy: 0.9428 | 📉 Valid Loss: 0.2584\n"
     ]
    },
    {
     "name": "stderr",
     "output_type": "stream",
     "text": [
      "📢 Epoch [61/1000] 시작: 100%|██████████| 149/149 [01:00<00:00,  2.45it/s]\n"
     ]
    },
    {
     "name": "stdout",
     "output_type": "stream",
     "text": [
      "   🎯 Train Accuracy: 1.0000 | 📉 Train Loss: 0.0004 | 🎯 Valid Accuracy: 0.9399 | 📉 Valid Loss: 0.2763\n"
     ]
    },
    {
     "name": "stderr",
     "output_type": "stream",
     "text": [
      "📢 Epoch [62/1000] 시작: 100%|██████████| 149/149 [01:00<00:00,  2.45it/s]\n"
     ]
    },
    {
     "name": "stdout",
     "output_type": "stream",
     "text": [
      "   🎯 Train Accuracy: 1.0000 | 📉 Train Loss: 0.0005 | 🎯 Valid Accuracy: 0.9421 | 📉 Valid Loss: 0.2760\n"
     ]
    },
    {
     "name": "stderr",
     "output_type": "stream",
     "text": [
      "📢 Epoch [63/1000] 시작: 100%|██████████| 149/149 [01:00<00:00,  2.45it/s]\n"
     ]
    },
    {
     "name": "stdout",
     "output_type": "stream",
     "text": [
      "✅ 새로운 최고 검증 정확도 0.9465 (Loss: 0.2700) 달성! 모델 저장됨 (에포크 63)\n",
      "   🎯 Train Accuracy: 0.9998 | 📉 Train Loss: 0.0006 | 🎯 Valid Accuracy: 0.9465 | 📉 Valid Loss: 0.2700\n"
     ]
    },
    {
     "name": "stderr",
     "output_type": "stream",
     "text": [
      "📢 Epoch [64/1000] 시작: 100%|██████████| 149/149 [01:02<00:00,  2.39it/s]\n"
     ]
    },
    {
     "name": "stdout",
     "output_type": "stream",
     "text": [
      "   🎯 Train Accuracy: 1.0000 | 📉 Train Loss: 0.0005 | 🎯 Valid Accuracy: 0.9428 | 📉 Valid Loss: 0.2573\n"
     ]
    },
    {
     "name": "stderr",
     "output_type": "stream",
     "text": [
      "📢 Epoch [65/1000] 시작: 100%|██████████| 149/149 [01:01<00:00,  2.41it/s]\n"
     ]
    },
    {
     "name": "stdout",
     "output_type": "stream",
     "text": [
      "   🎯 Train Accuracy: 0.9996 | 📉 Train Loss: 0.0005 | 🎯 Valid Accuracy: 0.9450 | 📉 Valid Loss: 0.2671\n"
     ]
    },
    {
     "name": "stderr",
     "output_type": "stream",
     "text": [
      "📢 Epoch [66/1000] 시작: 100%|██████████| 149/149 [01:01<00:00,  2.43it/s]\n"
     ]
    },
    {
     "name": "stdout",
     "output_type": "stream",
     "text": [
      "   🎯 Train Accuracy: 0.9996 | 📉 Train Loss: 0.0010 | 🎯 Valid Accuracy: 0.9391 | 📉 Valid Loss: 0.2975\n"
     ]
    },
    {
     "name": "stderr",
     "output_type": "stream",
     "text": [
      "📢 Epoch [67/1000] 시작: 100%|██████████| 149/149 [01:03<00:00,  2.33it/s]\n"
     ]
    },
    {
     "name": "stdout",
     "output_type": "stream",
     "text": [
      "   🎯 Train Accuracy: 0.9996 | 📉 Train Loss: 0.0010 | 🎯 Valid Accuracy: 0.9443 | 📉 Valid Loss: 0.2727\n"
     ]
    },
    {
     "name": "stderr",
     "output_type": "stream",
     "text": [
      "📢 Epoch [68/1000] 시작: 100%|██████████| 149/149 [01:06<00:00,  2.24it/s]\n"
     ]
    },
    {
     "name": "stdout",
     "output_type": "stream",
     "text": [
      "   🎯 Train Accuracy: 0.9981 | 📉 Train Loss: 0.0056 | 🎯 Valid Accuracy: 0.9406 | 📉 Valid Loss: 0.3094\n"
     ]
    },
    {
     "name": "stderr",
     "output_type": "stream",
     "text": [
      "📢 Epoch [69/1000] 시작: 100%|██████████| 149/149 [01:02<00:00,  2.39it/s]\n"
     ]
    },
    {
     "name": "stdout",
     "output_type": "stream",
     "text": [
      "   🎯 Train Accuracy: 0.9987 | 📉 Train Loss: 0.0028 | 🎯 Valid Accuracy: 0.9384 | 📉 Valid Loss: 0.2794\n"
     ]
    },
    {
     "name": "stderr",
     "output_type": "stream",
     "text": [
      "📢 Epoch [70/1000] 시작: 100%|██████████| 149/149 [01:01<00:00,  2.43it/s]\n"
     ]
    },
    {
     "name": "stdout",
     "output_type": "stream",
     "text": [
      "   🎯 Train Accuracy: 0.9996 | 📉 Train Loss: 0.0014 | 🎯 Valid Accuracy: 0.9326 | 📉 Valid Loss: 0.3230\n"
     ]
    },
    {
     "name": "stderr",
     "output_type": "stream",
     "text": [
      "📢 Epoch [71/1000] 시작: 100%|██████████| 149/149 [01:02<00:00,  2.40it/s]\n"
     ]
    },
    {
     "name": "stdout",
     "output_type": "stream",
     "text": [
      "   🎯 Train Accuracy: 0.9996 | 📉 Train Loss: 0.0016 | 🎯 Valid Accuracy: 0.9282 | 📉 Valid Loss: 0.3428\n"
     ]
    },
    {
     "name": "stderr",
     "output_type": "stream",
     "text": [
      "📢 Epoch [72/1000] 시작: 100%|██████████| 149/149 [01:02<00:00,  2.37it/s]\n"
     ]
    },
    {
     "name": "stdout",
     "output_type": "stream",
     "text": [
      "   🎯 Train Accuracy: 0.9996 | 📉 Train Loss: 0.0011 | 🎯 Valid Accuracy: 0.9296 | 📉 Valid Loss: 0.3181\n"
     ]
    },
    {
     "name": "stderr",
     "output_type": "stream",
     "text": [
      "📢 Epoch [73/1000] 시작: 100%|██████████| 149/149 [01:02<00:00,  2.40it/s]\n"
     ]
    },
    {
     "name": "stdout",
     "output_type": "stream",
     "text": [
      "   🎯 Train Accuracy: 1.0000 | 📉 Train Loss: 0.0005 | 🎯 Valid Accuracy: 0.9318 | 📉 Valid Loss: 0.3031\n"
     ]
    },
    {
     "name": "stderr",
     "output_type": "stream",
     "text": [
      "📢 Epoch [74/1000] 시작: 100%|██████████| 149/149 [01:01<00:00,  2.42it/s]\n"
     ]
    },
    {
     "name": "stdout",
     "output_type": "stream",
     "text": [
      "   🎯 Train Accuracy: 0.9998 | 📉 Train Loss: 0.0005 | 🎯 Valid Accuracy: 0.9333 | 📉 Valid Loss: 0.3168\n"
     ]
    },
    {
     "name": "stderr",
     "output_type": "stream",
     "text": [
      "📢 Epoch [75/1000] 시작: 100%|██████████| 149/149 [01:01<00:00,  2.42it/s]\n"
     ]
    },
    {
     "name": "stdout",
     "output_type": "stream",
     "text": [
      "   🎯 Train Accuracy: 0.9998 | 📉 Train Loss: 0.0004 | 🎯 Valid Accuracy: 0.9340 | 📉 Valid Loss: 0.3099\n"
     ]
    },
    {
     "name": "stderr",
     "output_type": "stream",
     "text": [
      "📢 Epoch [76/1000] 시작: 100%|██████████| 149/149 [01:02<00:00,  2.38it/s]\n"
     ]
    },
    {
     "name": "stdout",
     "output_type": "stream",
     "text": [
      "   🎯 Train Accuracy: 0.9992 | 📉 Train Loss: 0.0016 | 🎯 Valid Accuracy: 0.9304 | 📉 Valid Loss: 0.3421\n"
     ]
    },
    {
     "name": "stderr",
     "output_type": "stream",
     "text": [
      "📢 Epoch [77/1000] 시작: 100%|██████████| 149/149 [01:01<00:00,  2.42it/s]\n"
     ]
    },
    {
     "name": "stdout",
     "output_type": "stream",
     "text": [
      "   🎯 Train Accuracy: 1.0000 | 📉 Train Loss: 0.0004 | 🎯 Valid Accuracy: 0.9355 | 📉 Valid Loss: 0.3135\n"
     ]
    },
    {
     "name": "stderr",
     "output_type": "stream",
     "text": [
      "📢 Epoch [78/1000] 시작: 100%|██████████| 149/149 [01:01<00:00,  2.44it/s]\n"
     ]
    },
    {
     "name": "stdout",
     "output_type": "stream",
     "text": [
      "   🎯 Train Accuracy: 0.9998 | 📉 Train Loss: 0.0004 | 🎯 Valid Accuracy: 0.9355 | 📉 Valid Loss: 0.3362\n"
     ]
    },
    {
     "name": "stderr",
     "output_type": "stream",
     "text": [
      "📢 Epoch [79/1000] 시작: 100%|██████████| 149/149 [01:01<00:00,  2.42it/s]\n"
     ]
    },
    {
     "name": "stdout",
     "output_type": "stream",
     "text": [
      "   🎯 Train Accuracy: 0.9998 | 📉 Train Loss: 0.0008 | 🎯 Valid Accuracy: 0.9362 | 📉 Valid Loss: 0.3259\n"
     ]
    },
    {
     "name": "stderr",
     "output_type": "stream",
     "text": [
      "📢 Epoch [80/1000] 시작: 100%|██████████| 149/149 [01:01<00:00,  2.42it/s]\n"
     ]
    },
    {
     "name": "stdout",
     "output_type": "stream",
     "text": [
      "   🎯 Train Accuracy: 0.9994 | 📉 Train Loss: 0.0016 | 🎯 Valid Accuracy: 0.9413 | 📉 Valid Loss: 0.2995\n"
     ]
    },
    {
     "name": "stderr",
     "output_type": "stream",
     "text": [
      "📢 Epoch [81/1000] 시작: 100%|██████████| 149/149 [01:01<00:00,  2.43it/s]\n"
     ]
    },
    {
     "name": "stdout",
     "output_type": "stream",
     "text": [
      "   🎯 Train Accuracy: 1.0000 | 📉 Train Loss: 0.0003 | 🎯 Valid Accuracy: 0.9377 | 📉 Valid Loss: 0.3297\n"
     ]
    },
    {
     "name": "stderr",
     "output_type": "stream",
     "text": [
      "📢 Epoch [82/1000] 시작: 100%|██████████| 149/149 [01:01<00:00,  2.42it/s]\n"
     ]
    },
    {
     "name": "stdout",
     "output_type": "stream",
     "text": [
      "   🎯 Train Accuracy: 1.0000 | 📉 Train Loss: 0.0003 | 🎯 Valid Accuracy: 0.9370 | 📉 Valid Loss: 0.3123\n"
     ]
    },
    {
     "name": "stderr",
     "output_type": "stream",
     "text": [
      "📢 Epoch [83/1000] 시작: 100%|██████████| 149/149 [01:01<00:00,  2.43it/s]\n"
     ]
    },
    {
     "name": "stdout",
     "output_type": "stream",
     "text": [
      "   🎯 Train Accuracy: 1.0000 | 📉 Train Loss: 0.0002 | 🎯 Valid Accuracy: 0.9362 | 📉 Valid Loss: 0.3167\n"
     ]
    },
    {
     "name": "stderr",
     "output_type": "stream",
     "text": [
      "📢 Epoch [84/1000] 시작: 100%|██████████| 149/149 [01:01<00:00,  2.43it/s]\n"
     ]
    },
    {
     "name": "stdout",
     "output_type": "stream",
     "text": [
      "   🎯 Train Accuracy: 1.0000 | 📉 Train Loss: 0.0001 | 🎯 Valid Accuracy: 0.9399 | 📉 Valid Loss: 0.3248\n"
     ]
    },
    {
     "name": "stderr",
     "output_type": "stream",
     "text": [
      "📢 Epoch [85/1000] 시작: 100%|██████████| 149/149 [01:01<00:00,  2.42it/s]\n"
     ]
    },
    {
     "name": "stdout",
     "output_type": "stream",
     "text": [
      "   🎯 Train Accuracy: 0.9998 | 📉 Train Loss: 0.0014 | 🎯 Valid Accuracy: 0.9384 | 📉 Valid Loss: 0.2912\n"
     ]
    },
    {
     "name": "stderr",
     "output_type": "stream",
     "text": [
      "📢 Epoch [86/1000] 시작: 100%|██████████| 149/149 [01:01<00:00,  2.41it/s]\n"
     ]
    },
    {
     "name": "stdout",
     "output_type": "stream",
     "text": [
      "   🎯 Train Accuracy: 1.0000 | 📉 Train Loss: 0.0002 | 🎯 Valid Accuracy: 0.9362 | 📉 Valid Loss: 0.3099\n"
     ]
    },
    {
     "name": "stderr",
     "output_type": "stream",
     "text": [
      "📢 Epoch [87/1000] 시작: 100%|██████████| 149/149 [01:02<00:00,  2.40it/s]\n"
     ]
    },
    {
     "name": "stdout",
     "output_type": "stream",
     "text": [
      "   🎯 Train Accuracy: 1.0000 | 📉 Train Loss: 0.0001 | 🎯 Valid Accuracy: 0.9384 | 📉 Valid Loss: 0.3036\n"
     ]
    },
    {
     "name": "stderr",
     "output_type": "stream",
     "text": [
      "📢 Epoch [88/1000] 시작: 100%|██████████| 149/149 [01:01<00:00,  2.42it/s]\n"
     ]
    },
    {
     "name": "stdout",
     "output_type": "stream",
     "text": [
      "   🎯 Train Accuracy: 0.9998 | 📉 Train Loss: 0.0006 | 🎯 Valid Accuracy: 0.9384 | 📉 Valid Loss: 0.2971\n"
     ]
    },
    {
     "name": "stderr",
     "output_type": "stream",
     "text": [
      "📢 Epoch [89/1000] 시작: 100%|██████████| 149/149 [01:01<00:00,  2.43it/s]\n"
     ]
    },
    {
     "name": "stdout",
     "output_type": "stream",
     "text": [
      "   🎯 Train Accuracy: 0.9998 | 📉 Train Loss: 0.0004 | 🎯 Valid Accuracy: 0.9413 | 📉 Valid Loss: 0.3028\n"
     ]
    },
    {
     "name": "stderr",
     "output_type": "stream",
     "text": [
      "📢 Epoch [90/1000] 시작: 100%|██████████| 149/149 [01:01<00:00,  2.42it/s]\n"
     ]
    },
    {
     "name": "stdout",
     "output_type": "stream",
     "text": [
      "   🎯 Train Accuracy: 1.0000 | 📉 Train Loss: 0.0002 | 🎯 Valid Accuracy: 0.9391 | 📉 Valid Loss: 0.2883\n"
     ]
    },
    {
     "name": "stderr",
     "output_type": "stream",
     "text": [
      "📢 Epoch [91/1000] 시작: 100%|██████████| 149/149 [01:01<00:00,  2.42it/s]\n"
     ]
    },
    {
     "name": "stdout",
     "output_type": "stream",
     "text": [
      "   🎯 Train Accuracy: 0.9996 | 📉 Train Loss: 0.0006 | 🎯 Valid Accuracy: 0.9384 | 📉 Valid Loss: 0.2814\n"
     ]
    },
    {
     "name": "stderr",
     "output_type": "stream",
     "text": [
      "📢 Epoch [92/1000] 시작: 100%|██████████| 149/149 [01:01<00:00,  2.42it/s]\n"
     ]
    },
    {
     "name": "stdout",
     "output_type": "stream",
     "text": [
      "   🎯 Train Accuracy: 1.0000 | 📉 Train Loss: 0.0001 | 🎯 Valid Accuracy: 0.9450 | 📉 Valid Loss: 0.2858\n"
     ]
    },
    {
     "name": "stderr",
     "output_type": "stream",
     "text": [
      "📢 Epoch [93/1000] 시작: 100%|██████████| 149/149 [01:01<00:00,  2.43it/s]\n"
     ]
    },
    {
     "name": "stdout",
     "output_type": "stream",
     "text": [
      "   🎯 Train Accuracy: 1.0000 | 📉 Train Loss: 0.0003 | 🎯 Valid Accuracy: 0.9435 | 📉 Valid Loss: 0.2874\n"
     ]
    },
    {
     "name": "stderr",
     "output_type": "stream",
     "text": [
      "📢 Epoch [94/1000] 시작: 100%|██████████| 149/149 [01:01<00:00,  2.43it/s]\n"
     ]
    },
    {
     "name": "stdout",
     "output_type": "stream",
     "text": [
      "   🎯 Train Accuracy: 0.9996 | 📉 Train Loss: 0.0005 | 🎯 Valid Accuracy: 0.9465 | 📉 Valid Loss: 0.2766\n"
     ]
    },
    {
     "name": "stderr",
     "output_type": "stream",
     "text": [
      "📢 Epoch [95/1000] 시작: 100%|██████████| 149/149 [01:01<00:00,  2.42it/s]\n"
     ]
    },
    {
     "name": "stdout",
     "output_type": "stream",
     "text": [
      "   🎯 Train Accuracy: 1.0000 | 📉 Train Loss: 0.0002 | 🎯 Valid Accuracy: 0.9406 | 📉 Valid Loss: 0.2760\n"
     ]
    },
    {
     "name": "stderr",
     "output_type": "stream",
     "text": [
      "📢 Epoch [96/1000] 시작: 100%|██████████| 149/149 [01:01<00:00,  2.43it/s]\n"
     ]
    },
    {
     "name": "stdout",
     "output_type": "stream",
     "text": [
      "   🎯 Train Accuracy: 0.9998 | 📉 Train Loss: 0.0007 | 🎯 Valid Accuracy: 0.9465 | 📉 Valid Loss: 0.2789\n"
     ]
    },
    {
     "name": "stderr",
     "output_type": "stream",
     "text": [
      "📢 Epoch [97/1000] 시작: 100%|██████████| 149/149 [01:00<00:00,  2.45it/s]\n"
     ]
    },
    {
     "name": "stdout",
     "output_type": "stream",
     "text": [
      "   🎯 Train Accuracy: 0.9998 | 📉 Train Loss: 0.0008 | 🎯 Valid Accuracy: 0.9443 | 📉 Valid Loss: 0.2784\n"
     ]
    },
    {
     "name": "stderr",
     "output_type": "stream",
     "text": [
      "📢 Epoch [98/1000] 시작: 100%|██████████| 149/149 [01:01<00:00,  2.43it/s]\n"
     ]
    },
    {
     "name": "stdout",
     "output_type": "stream",
     "text": [
      "   🎯 Train Accuracy: 0.9998 | 📉 Train Loss: 0.0003 | 🎯 Valid Accuracy: 0.9413 | 📉 Valid Loss: 0.2776\n"
     ]
    },
    {
     "name": "stderr",
     "output_type": "stream",
     "text": [
      "📢 Epoch [99/1000] 시작: 100%|██████████| 149/149 [01:00<00:00,  2.45it/s]\n"
     ]
    },
    {
     "name": "stdout",
     "output_type": "stream",
     "text": [
      "   🎯 Train Accuracy: 0.9996 | 📉 Train Loss: 0.0007 | 🎯 Valid Accuracy: 0.9421 | 📉 Valid Loss: 0.3029\n"
     ]
    },
    {
     "name": "stderr",
     "output_type": "stream",
     "text": [
      "📢 Epoch [100/1000] 시작: 100%|██████████| 149/149 [01:01<00:00,  2.44it/s]\n"
     ]
    },
    {
     "name": "stdout",
     "output_type": "stream",
     "text": [
      "   🎯 Train Accuracy: 1.0000 | 📉 Train Loss: 0.0001 | 🎯 Valid Accuracy: 0.9450 | 📉 Valid Loss: 0.2944\n"
     ]
    },
    {
     "name": "stderr",
     "output_type": "stream",
     "text": [
      "📢 Epoch [101/1000] 시작: 100%|██████████| 149/149 [01:01<00:00,  2.43it/s]\n"
     ]
    },
    {
     "name": "stdout",
     "output_type": "stream",
     "text": [
      "   🎯 Train Accuracy: 1.0000 | 📉 Train Loss: 0.0002 | 🎯 Valid Accuracy: 0.9435 | 📉 Valid Loss: 0.2731\n"
     ]
    },
    {
     "name": "stderr",
     "output_type": "stream",
     "text": [
      "📢 Epoch [102/1000] 시작: 100%|██████████| 149/149 [01:01<00:00,  2.43it/s]\n"
     ]
    },
    {
     "name": "stdout",
     "output_type": "stream",
     "text": [
      "   🎯 Train Accuracy: 0.9998 | 📉 Train Loss: 0.0007 | 🎯 Valid Accuracy: 0.9435 | 📉 Valid Loss: 0.3129\n"
     ]
    },
    {
     "name": "stderr",
     "output_type": "stream",
     "text": [
      "📢 Epoch [103/1000] 시작: 100%|██████████| 149/149 [01:01<00:00,  2.43it/s]\n"
     ]
    },
    {
     "name": "stdout",
     "output_type": "stream",
     "text": [
      "   🎯 Train Accuracy: 1.0000 | 📉 Train Loss: 0.0002 | 🎯 Valid Accuracy: 0.9413 | 📉 Valid Loss: 0.2931\n"
     ]
    },
    {
     "name": "stderr",
     "output_type": "stream",
     "text": [
      "📢 Epoch [104/1000] 시작: 100%|██████████| 149/149 [01:01<00:00,  2.44it/s]\n"
     ]
    },
    {
     "name": "stdout",
     "output_type": "stream",
     "text": [
      "   🎯 Train Accuracy: 0.9998 | 📉 Train Loss: 0.0003 | 🎯 Valid Accuracy: 0.9435 | 📉 Valid Loss: 0.3130\n"
     ]
    },
    {
     "name": "stderr",
     "output_type": "stream",
     "text": [
      "📢 Epoch [105/1000] 시작: 100%|██████████| 149/149 [01:01<00:00,  2.44it/s]\n"
     ]
    },
    {
     "name": "stdout",
     "output_type": "stream",
     "text": [
      "   🎯 Train Accuracy: 1.0000 | 📉 Train Loss: 0.0002 | 🎯 Valid Accuracy: 0.9435 | 📉 Valid Loss: 0.2932\n"
     ]
    },
    {
     "name": "stderr",
     "output_type": "stream",
     "text": [
      "📢 Epoch [106/1000] 시작: 100%|██████████| 149/149 [01:01<00:00,  2.43it/s]\n"
     ]
    },
    {
     "name": "stdout",
     "output_type": "stream",
     "text": [
      "   🎯 Train Accuracy: 1.0000 | 📉 Train Loss: 0.0001 | 🎯 Valid Accuracy: 0.9406 | 📉 Valid Loss: 0.2936\n"
     ]
    },
    {
     "name": "stderr",
     "output_type": "stream",
     "text": [
      "📢 Epoch [107/1000] 시작: 100%|██████████| 149/149 [01:01<00:00,  2.42it/s]\n"
     ]
    },
    {
     "name": "stdout",
     "output_type": "stream",
     "text": [
      "   🎯 Train Accuracy: 0.9998 | 📉 Train Loss: 0.0006 | 🎯 Valid Accuracy: 0.9435 | 📉 Valid Loss: 0.2858\n"
     ]
    },
    {
     "name": "stderr",
     "output_type": "stream",
     "text": [
      "📢 Epoch [108/1000] 시작: 100%|██████████| 149/149 [01:01<00:00,  2.42it/s]\n"
     ]
    },
    {
     "name": "stdout",
     "output_type": "stream",
     "text": [
      "   🎯 Train Accuracy: 1.0000 | 📉 Train Loss: 0.0001 | 🎯 Valid Accuracy: 0.9443 | 📉 Valid Loss: 0.2840\n"
     ]
    },
    {
     "name": "stderr",
     "output_type": "stream",
     "text": [
      "📢 Epoch [109/1000] 시작: 100%|██████████| 149/149 [01:01<00:00,  2.43it/s]\n"
     ]
    },
    {
     "name": "stdout",
     "output_type": "stream",
     "text": [
      "   🎯 Train Accuracy: 1.0000 | 📉 Train Loss: 0.0001 | 🎯 Valid Accuracy: 0.9435 | 📉 Valid Loss: 0.2691\n"
     ]
    },
    {
     "name": "stderr",
     "output_type": "stream",
     "text": [
      "📢 Epoch [110/1000] 시작: 100%|██████████| 149/149 [01:01<00:00,  2.42it/s]\n"
     ]
    },
    {
     "name": "stdout",
     "output_type": "stream",
     "text": [
      "   🎯 Train Accuracy: 1.0000 | 📉 Train Loss: 0.0001 | 🎯 Valid Accuracy: 0.9450 | 📉 Valid Loss: 0.2865\n"
     ]
    },
    {
     "name": "stderr",
     "output_type": "stream",
     "text": [
      "📢 Epoch [111/1000] 시작: 100%|██████████| 149/149 [01:01<00:00,  2.42it/s]\n"
     ]
    },
    {
     "name": "stdout",
     "output_type": "stream",
     "text": [
      "   🎯 Train Accuracy: 1.0000 | 📉 Train Loss: 0.0003 | 🎯 Valid Accuracy: 0.9450 | 📉 Valid Loss: 0.2889\n"
     ]
    },
    {
     "name": "stderr",
     "output_type": "stream",
     "text": [
      "📢 Epoch [112/1000] 시작: 100%|██████████| 149/149 [01:01<00:00,  2.41it/s]\n"
     ]
    },
    {
     "name": "stdout",
     "output_type": "stream",
     "text": [
      "   🎯 Train Accuracy: 1.0000 | 📉 Train Loss: 0.0001 | 🎯 Valid Accuracy: 0.9457 | 📉 Valid Loss: 0.2927\n"
     ]
    },
    {
     "name": "stderr",
     "output_type": "stream",
     "text": [
      "📢 Epoch [113/1000] 시작: 100%|██████████| 149/149 [01:01<00:00,  2.42it/s]\n"
     ]
    },
    {
     "name": "stdout",
     "output_type": "stream",
     "text": [
      "   🎯 Train Accuracy: 1.0000 | 📉 Train Loss: 0.0001 | 🎯 Valid Accuracy: 0.9457 | 📉 Valid Loss: 0.2794\n"
     ]
    },
    {
     "name": "stderr",
     "output_type": "stream",
     "text": [
      "📢 Epoch [114/1000] 시작: 100%|██████████| 149/149 [01:04<00:00,  2.31it/s]\n"
     ]
    },
    {
     "name": "stdout",
     "output_type": "stream",
     "text": [
      "   🎯 Train Accuracy: 1.0000 | 📉 Train Loss: 0.0001 | 🎯 Valid Accuracy: 0.9457 | 📉 Valid Loss: 0.2895\n"
     ]
    },
    {
     "name": "stderr",
     "output_type": "stream",
     "text": [
      "📢 Epoch [115/1000] 시작: 100%|██████████| 149/149 [01:01<00:00,  2.44it/s]\n"
     ]
    },
    {
     "name": "stdout",
     "output_type": "stream",
     "text": [
      "   🎯 Train Accuracy: 1.0000 | 📉 Train Loss: 0.0000 | 🎯 Valid Accuracy: 0.9421 | 📉 Valid Loss: 0.2921\n"
     ]
    },
    {
     "name": "stderr",
     "output_type": "stream",
     "text": [
      "📢 Epoch [116/1000] 시작: 100%|██████████| 149/149 [01:01<00:00,  2.43it/s]\n"
     ]
    },
    {
     "name": "stdout",
     "output_type": "stream",
     "text": [
      "   🎯 Train Accuracy: 1.0000 | 📉 Train Loss: 0.0000 | 🎯 Valid Accuracy: 0.9435 | 📉 Valid Loss: 0.2806\n"
     ]
    },
    {
     "name": "stderr",
     "output_type": "stream",
     "text": [
      "📢 Epoch [117/1000] 시작: 100%|██████████| 149/149 [01:01<00:00,  2.41it/s]\n"
     ]
    },
    {
     "name": "stdout",
     "output_type": "stream",
     "text": [
      "   🎯 Train Accuracy: 1.0000 | 📉 Train Loss: 0.0000 | 🎯 Valid Accuracy: 0.9450 | 📉 Valid Loss: 0.2827\n"
     ]
    },
    {
     "name": "stderr",
     "output_type": "stream",
     "text": [
      "📢 Epoch [118/1000] 시작: 100%|██████████| 149/149 [01:01<00:00,  2.43it/s]\n"
     ]
    },
    {
     "name": "stdout",
     "output_type": "stream",
     "text": [
      "   🎯 Train Accuracy: 1.0000 | 📉 Train Loss: 0.0002 | 🎯 Valid Accuracy: 0.9465 | 📉 Valid Loss: 0.2738\n"
     ]
    },
    {
     "name": "stderr",
     "output_type": "stream",
     "text": [
      "📢 Epoch [119/1000] 시작: 100%|██████████| 149/149 [01:01<00:00,  2.42it/s]\n"
     ]
    },
    {
     "name": "stdout",
     "output_type": "stream",
     "text": [
      "   🎯 Train Accuracy: 1.0000 | 📉 Train Loss: 0.0000 | 🎯 Valid Accuracy: 0.9435 | 📉 Valid Loss: 0.2794\n"
     ]
    },
    {
     "name": "stderr",
     "output_type": "stream",
     "text": [
      "📢 Epoch [120/1000] 시작: 100%|██████████| 149/149 [01:01<00:00,  2.41it/s]\n"
     ]
    },
    {
     "name": "stdout",
     "output_type": "stream",
     "text": [
      "   🎯 Train Accuracy: 1.0000 | 📉 Train Loss: 0.0000 | 🎯 Valid Accuracy: 0.9421 | 📉 Valid Loss: 0.2772\n"
     ]
    },
    {
     "name": "stderr",
     "output_type": "stream",
     "text": [
      "📢 Epoch [121/1000] 시작: 100%|██████████| 149/149 [01:01<00:00,  2.41it/s]\n"
     ]
    },
    {
     "name": "stdout",
     "output_type": "stream",
     "text": [
      "   🎯 Train Accuracy: 1.0000 | 📉 Train Loss: 0.0001 | 🎯 Valid Accuracy: 0.9457 | 📉 Valid Loss: 0.2881\n"
     ]
    },
    {
     "name": "stderr",
     "output_type": "stream",
     "text": [
      "📢 Epoch [122/1000] 시작: 100%|██████████| 149/149 [01:02<00:00,  2.39it/s]\n"
     ]
    },
    {
     "name": "stdout",
     "output_type": "stream",
     "text": [
      "   🎯 Train Accuracy: 1.0000 | 📉 Train Loss: 0.0000 | 🎯 Valid Accuracy: 0.9421 | 📉 Valid Loss: 0.2836\n"
     ]
    },
    {
     "name": "stderr",
     "output_type": "stream",
     "text": [
      "📢 Epoch [123/1000] 시작: 100%|██████████| 149/149 [01:03<00:00,  2.36it/s]\n"
     ]
    },
    {
     "name": "stdout",
     "output_type": "stream",
     "text": [
      "   🎯 Train Accuracy: 0.9998 | 📉 Train Loss: 0.0010 | 🎯 Valid Accuracy: 0.9428 | 📉 Valid Loss: 0.2760\n"
     ]
    },
    {
     "name": "stderr",
     "output_type": "stream",
     "text": [
      "📢 Epoch [124/1000] 시작: 100%|██████████| 149/149 [01:01<00:00,  2.44it/s]\n"
     ]
    },
    {
     "name": "stdout",
     "output_type": "stream",
     "text": [
      "   🎯 Train Accuracy: 1.0000 | 📉 Train Loss: 0.0001 | 🎯 Valid Accuracy: 0.9435 | 📉 Valid Loss: 0.2903\n"
     ]
    },
    {
     "name": "stderr",
     "output_type": "stream",
     "text": [
      "📢 Epoch [125/1000] 시작: 100%|██████████| 149/149 [01:04<00:00,  2.30it/s]\n"
     ]
    },
    {
     "name": "stdout",
     "output_type": "stream",
     "text": [
      "   🎯 Train Accuracy: 1.0000 | 📉 Train Loss: 0.0001 | 🎯 Valid Accuracy: 0.9428 | 📉 Valid Loss: 0.2874\n"
     ]
    },
    {
     "name": "stderr",
     "output_type": "stream",
     "text": [
      "📢 Epoch [126/1000] 시작: 100%|██████████| 149/149 [01:02<00:00,  2.38it/s]\n"
     ]
    },
    {
     "name": "stdout",
     "output_type": "stream",
     "text": [
      "   🎯 Train Accuracy: 1.0000 | 📉 Train Loss: 0.0000 | 🎯 Valid Accuracy: 0.9421 | 📉 Valid Loss: 0.2731\n"
     ]
    },
    {
     "name": "stderr",
     "output_type": "stream",
     "text": [
      "📢 Epoch [127/1000] 시작: 100%|██████████| 149/149 [01:02<00:00,  2.40it/s]\n"
     ]
    },
    {
     "name": "stdout",
     "output_type": "stream",
     "text": [
      "   🎯 Train Accuracy: 0.9998 | 📉 Train Loss: 0.0006 | 🎯 Valid Accuracy: 0.9457 | 📉 Valid Loss: 0.2849\n"
     ]
    },
    {
     "name": "stderr",
     "output_type": "stream",
     "text": [
      "📢 Epoch [128/1000] 시작: 100%|██████████| 149/149 [01:01<00:00,  2.43it/s]\n"
     ]
    },
    {
     "name": "stdout",
     "output_type": "stream",
     "text": [
      "   🎯 Train Accuracy: 1.0000 | 📉 Train Loss: 0.0000 | 🎯 Valid Accuracy: 0.9465 | 📉 Valid Loss: 0.2544\n"
     ]
    },
    {
     "name": "stderr",
     "output_type": "stream",
     "text": [
      "📢 Epoch [129/1000] 시작: 100%|██████████| 149/149 [01:03<00:00,  2.35it/s]\n"
     ]
    },
    {
     "name": "stdout",
     "output_type": "stream",
     "text": [
      "   🎯 Train Accuracy: 1.0000 | 📉 Train Loss: 0.0001 | 🎯 Valid Accuracy: 0.9435 | 📉 Valid Loss: 0.2784\n"
     ]
    },
    {
     "name": "stderr",
     "output_type": "stream",
     "text": [
      "📢 Epoch [130/1000] 시작: 100%|██████████| 149/149 [01:02<00:00,  2.37it/s]\n"
     ]
    },
    {
     "name": "stdout",
     "output_type": "stream",
     "text": [
      "   🎯 Train Accuracy: 1.0000 | 📉 Train Loss: 0.0002 | 🎯 Valid Accuracy: 0.9443 | 📉 Valid Loss: 0.2635\n"
     ]
    },
    {
     "name": "stderr",
     "output_type": "stream",
     "text": [
      "📢 Epoch [131/1000] 시작: 100%|██████████| 149/149 [01:03<00:00,  2.34it/s]\n"
     ]
    },
    {
     "name": "stdout",
     "output_type": "stream",
     "text": [
      "   🎯 Train Accuracy: 1.0000 | 📉 Train Loss: 0.0000 | 🎯 Valid Accuracy: 0.9443 | 📉 Valid Loss: 0.2692\n"
     ]
    },
    {
     "name": "stderr",
     "output_type": "stream",
     "text": [
      "📢 Epoch [132/1000] 시작: 100%|██████████| 149/149 [01:04<00:00,  2.31it/s]\n"
     ]
    },
    {
     "name": "stdout",
     "output_type": "stream",
     "text": [
      "   🎯 Train Accuracy: 0.9998 | 📉 Train Loss: 0.0011 | 🎯 Valid Accuracy: 0.9465 | 📉 Valid Loss: 0.2715\n"
     ]
    },
    {
     "name": "stderr",
     "output_type": "stream",
     "text": [
      "📢 Epoch [133/1000] 시작:  23%|██▎       | 34/149 [00:16<00:54,  2.10it/s]\n"
     ]
    },
    {
     "ename": "KeyboardInterrupt",
     "evalue": "",
     "output_type": "error",
     "traceback": [
      "\u001b[1;31m---------------------------------------------------------------------------\u001b[0m",
      "\u001b[1;31mKeyboardInterrupt\u001b[0m                         Traceback (most recent call last)",
      "Cell \u001b[1;32mIn[1], line 145\u001b[0m\n\u001b[0;32m    142\u001b[0m correct \u001b[38;5;241m=\u001b[39m \u001b[38;5;241m0\u001b[39m\n\u001b[0;32m    143\u001b[0m total \u001b[38;5;241m=\u001b[39m \u001b[38;5;241m0\u001b[39m\n\u001b[1;32m--> 145\u001b[0m \u001b[38;5;28;01mfor\u001b[39;00m inputs, labels \u001b[38;5;129;01min\u001b[39;00m tqdm(train_loader, desc\u001b[38;5;241m=\u001b[39m\u001b[38;5;124mf\u001b[39m\u001b[38;5;124m\"\u001b[39m\u001b[38;5;124m📢 Epoch [\u001b[39m\u001b[38;5;132;01m{\u001b[39;00mepoch\u001b[38;5;241m+\u001b[39m\u001b[38;5;241m1\u001b[39m\u001b[38;5;132;01m}\u001b[39;00m\u001b[38;5;124m/\u001b[39m\u001b[38;5;132;01m{\u001b[39;00mepochs\u001b[38;5;132;01m}\u001b[39;00m\u001b[38;5;124m] 시작\u001b[39m\u001b[38;5;124m\"\u001b[39m):\n\u001b[0;32m    146\u001b[0m     inputs, labels \u001b[38;5;241m=\u001b[39m inputs\u001b[38;5;241m.\u001b[39mto(device), labels\u001b[38;5;241m.\u001b[39mto(device)\n\u001b[0;32m    147\u001b[0m     optimizer\u001b[38;5;241m.\u001b[39mzero_grad()\n",
      "File \u001b[1;32mc:\\Users\\user\\anaconda3\\envs\\classification\\lib\\site-packages\\tqdm\\std.py:1181\u001b[0m, in \u001b[0;36mtqdm.__iter__\u001b[1;34m(self)\u001b[0m\n\u001b[0;32m   1178\u001b[0m time \u001b[38;5;241m=\u001b[39m \u001b[38;5;28mself\u001b[39m\u001b[38;5;241m.\u001b[39m_time\n\u001b[0;32m   1180\u001b[0m \u001b[38;5;28;01mtry\u001b[39;00m:\n\u001b[1;32m-> 1181\u001b[0m     \u001b[38;5;28;01mfor\u001b[39;00m obj \u001b[38;5;129;01min\u001b[39;00m iterable:\n\u001b[0;32m   1182\u001b[0m         \u001b[38;5;28;01myield\u001b[39;00m obj\n\u001b[0;32m   1183\u001b[0m         \u001b[38;5;66;03m# Update and possibly print the progressbar.\u001b[39;00m\n\u001b[0;32m   1184\u001b[0m         \u001b[38;5;66;03m# Note: does not call self.update(1) for speed optimisation.\u001b[39;00m\n",
      "File \u001b[1;32mc:\\Users\\user\\anaconda3\\envs\\classification\\lib\\site-packages\\torch\\utils\\data\\dataloader.py:708\u001b[0m, in \u001b[0;36m_BaseDataLoaderIter.__next__\u001b[1;34m(self)\u001b[0m\n\u001b[0;32m    705\u001b[0m \u001b[38;5;28;01mif\u001b[39;00m \u001b[38;5;28mself\u001b[39m\u001b[38;5;241m.\u001b[39m_sampler_iter \u001b[38;5;129;01mis\u001b[39;00m \u001b[38;5;28;01mNone\u001b[39;00m:\n\u001b[0;32m    706\u001b[0m     \u001b[38;5;66;03m# TODO(https://github.com/pytorch/pytorch/issues/76750)\u001b[39;00m\n\u001b[0;32m    707\u001b[0m     \u001b[38;5;28mself\u001b[39m\u001b[38;5;241m.\u001b[39m_reset()  \u001b[38;5;66;03m# type: ignore[call-arg]\u001b[39;00m\n\u001b[1;32m--> 708\u001b[0m data \u001b[38;5;241m=\u001b[39m \u001b[38;5;28;43mself\u001b[39;49m\u001b[38;5;241;43m.\u001b[39;49m\u001b[43m_next_data\u001b[49m\u001b[43m(\u001b[49m\u001b[43m)\u001b[49m\n\u001b[0;32m    709\u001b[0m \u001b[38;5;28mself\u001b[39m\u001b[38;5;241m.\u001b[39m_num_yielded \u001b[38;5;241m+\u001b[39m\u001b[38;5;241m=\u001b[39m \u001b[38;5;241m1\u001b[39m\n\u001b[0;32m    710\u001b[0m \u001b[38;5;28;01mif\u001b[39;00m (\n\u001b[0;32m    711\u001b[0m     \u001b[38;5;28mself\u001b[39m\u001b[38;5;241m.\u001b[39m_dataset_kind \u001b[38;5;241m==\u001b[39m _DatasetKind\u001b[38;5;241m.\u001b[39mIterable\n\u001b[0;32m    712\u001b[0m     \u001b[38;5;129;01mand\u001b[39;00m \u001b[38;5;28mself\u001b[39m\u001b[38;5;241m.\u001b[39m_IterableDataset_len_called \u001b[38;5;129;01mis\u001b[39;00m \u001b[38;5;129;01mnot\u001b[39;00m \u001b[38;5;28;01mNone\u001b[39;00m\n\u001b[0;32m    713\u001b[0m     \u001b[38;5;129;01mand\u001b[39;00m \u001b[38;5;28mself\u001b[39m\u001b[38;5;241m.\u001b[39m_num_yielded \u001b[38;5;241m>\u001b[39m \u001b[38;5;28mself\u001b[39m\u001b[38;5;241m.\u001b[39m_IterableDataset_len_called\n\u001b[0;32m    714\u001b[0m ):\n",
      "File \u001b[1;32mc:\\Users\\user\\anaconda3\\envs\\classification\\lib\\site-packages\\torch\\utils\\data\\dataloader.py:764\u001b[0m, in \u001b[0;36m_SingleProcessDataLoaderIter._next_data\u001b[1;34m(self)\u001b[0m\n\u001b[0;32m    762\u001b[0m \u001b[38;5;28;01mdef\u001b[39;00m\u001b[38;5;250m \u001b[39m\u001b[38;5;21m_next_data\u001b[39m(\u001b[38;5;28mself\u001b[39m):\n\u001b[0;32m    763\u001b[0m     index \u001b[38;5;241m=\u001b[39m \u001b[38;5;28mself\u001b[39m\u001b[38;5;241m.\u001b[39m_next_index()  \u001b[38;5;66;03m# may raise StopIteration\u001b[39;00m\n\u001b[1;32m--> 764\u001b[0m     data \u001b[38;5;241m=\u001b[39m \u001b[38;5;28;43mself\u001b[39;49m\u001b[38;5;241;43m.\u001b[39;49m\u001b[43m_dataset_fetcher\u001b[49m\u001b[38;5;241;43m.\u001b[39;49m\u001b[43mfetch\u001b[49m\u001b[43m(\u001b[49m\u001b[43mindex\u001b[49m\u001b[43m)\u001b[49m  \u001b[38;5;66;03m# may raise StopIteration\u001b[39;00m\n\u001b[0;32m    765\u001b[0m     \u001b[38;5;28;01mif\u001b[39;00m \u001b[38;5;28mself\u001b[39m\u001b[38;5;241m.\u001b[39m_pin_memory:\n\u001b[0;32m    766\u001b[0m         data \u001b[38;5;241m=\u001b[39m _utils\u001b[38;5;241m.\u001b[39mpin_memory\u001b[38;5;241m.\u001b[39mpin_memory(data, \u001b[38;5;28mself\u001b[39m\u001b[38;5;241m.\u001b[39m_pin_memory_device)\n",
      "File \u001b[1;32mc:\\Users\\user\\anaconda3\\envs\\classification\\lib\\site-packages\\torch\\utils\\data\\_utils\\fetch.py:52\u001b[0m, in \u001b[0;36m_MapDatasetFetcher.fetch\u001b[1;34m(self, possibly_batched_index)\u001b[0m\n\u001b[0;32m     50\u001b[0m         data \u001b[38;5;241m=\u001b[39m \u001b[38;5;28mself\u001b[39m\u001b[38;5;241m.\u001b[39mdataset\u001b[38;5;241m.\u001b[39m__getitems__(possibly_batched_index)\n\u001b[0;32m     51\u001b[0m     \u001b[38;5;28;01melse\u001b[39;00m:\n\u001b[1;32m---> 52\u001b[0m         data \u001b[38;5;241m=\u001b[39m [\u001b[38;5;28mself\u001b[39m\u001b[38;5;241m.\u001b[39mdataset[idx] \u001b[38;5;28;01mfor\u001b[39;00m idx \u001b[38;5;129;01min\u001b[39;00m possibly_batched_index]\n\u001b[0;32m     53\u001b[0m \u001b[38;5;28;01melse\u001b[39;00m:\n\u001b[0;32m     54\u001b[0m     data \u001b[38;5;241m=\u001b[39m \u001b[38;5;28mself\u001b[39m\u001b[38;5;241m.\u001b[39mdataset[possibly_batched_index]\n",
      "File \u001b[1;32mc:\\Users\\user\\anaconda3\\envs\\classification\\lib\\site-packages\\torch\\utils\\data\\_utils\\fetch.py:52\u001b[0m, in \u001b[0;36m<listcomp>\u001b[1;34m(.0)\u001b[0m\n\u001b[0;32m     50\u001b[0m         data \u001b[38;5;241m=\u001b[39m \u001b[38;5;28mself\u001b[39m\u001b[38;5;241m.\u001b[39mdataset\u001b[38;5;241m.\u001b[39m__getitems__(possibly_batched_index)\n\u001b[0;32m     51\u001b[0m     \u001b[38;5;28;01melse\u001b[39;00m:\n\u001b[1;32m---> 52\u001b[0m         data \u001b[38;5;241m=\u001b[39m [\u001b[38;5;28;43mself\u001b[39;49m\u001b[38;5;241;43m.\u001b[39;49m\u001b[43mdataset\u001b[49m\u001b[43m[\u001b[49m\u001b[43midx\u001b[49m\u001b[43m]\u001b[49m \u001b[38;5;28;01mfor\u001b[39;00m idx \u001b[38;5;129;01min\u001b[39;00m possibly_batched_index]\n\u001b[0;32m     53\u001b[0m \u001b[38;5;28;01melse\u001b[39;00m:\n\u001b[0;32m     54\u001b[0m     data \u001b[38;5;241m=\u001b[39m \u001b[38;5;28mself\u001b[39m\u001b[38;5;241m.\u001b[39mdataset[possibly_batched_index]\n",
      "Cell \u001b[1;32mIn[1], line 80\u001b[0m, in \u001b[0;36mCustomDataset.__getitem__\u001b[1;34m(self, idx)\u001b[0m\n\u001b[0;32m     78\u001b[0m \u001b[38;5;28;01mdef\u001b[39;00m\u001b[38;5;250m \u001b[39m\u001b[38;5;21m__getitem__\u001b[39m(\u001b[38;5;28mself\u001b[39m, idx):\n\u001b[0;32m     79\u001b[0m     img_path, label \u001b[38;5;241m=\u001b[39m \u001b[38;5;28mself\u001b[39m\u001b[38;5;241m.\u001b[39mdata[idx]\n\u001b[1;32m---> 80\u001b[0m     image \u001b[38;5;241m=\u001b[39m \u001b[38;5;28;43mself\u001b[39;49m\u001b[38;5;241;43m.\u001b[39;49m\u001b[43mdataset\u001b[49m\u001b[38;5;241;43m.\u001b[39;49m\u001b[43mloader\u001b[49m\u001b[43m(\u001b[49m\u001b[43mimg_path\u001b[49m\u001b[43m)\u001b[49m\n\u001b[0;32m     81\u001b[0m     \u001b[38;5;28;01mif\u001b[39;00m \u001b[38;5;28mself\u001b[39m\u001b[38;5;241m.\u001b[39mtransform:\n\u001b[0;32m     82\u001b[0m         image \u001b[38;5;241m=\u001b[39m \u001b[38;5;28mself\u001b[39m\u001b[38;5;241m.\u001b[39mtransform(image)\n",
      "File \u001b[1;32mc:\\Users\\user\\anaconda3\\envs\\classification\\lib\\site-packages\\torchvision\\datasets\\folder.py:284\u001b[0m, in \u001b[0;36mdefault_loader\u001b[1;34m(path)\u001b[0m\n\u001b[0;32m    282\u001b[0m     \u001b[38;5;28;01mreturn\u001b[39;00m accimage_loader(path)\n\u001b[0;32m    283\u001b[0m \u001b[38;5;28;01melse\u001b[39;00m:\n\u001b[1;32m--> 284\u001b[0m     \u001b[38;5;28;01mreturn\u001b[39;00m \u001b[43mpil_loader\u001b[49m\u001b[43m(\u001b[49m\u001b[43mpath\u001b[49m\u001b[43m)\u001b[49m\n",
      "File \u001b[1;32mc:\\Users\\user\\anaconda3\\envs\\classification\\lib\\site-packages\\torchvision\\datasets\\folder.py:264\u001b[0m, in \u001b[0;36mpil_loader\u001b[1;34m(path)\u001b[0m\n\u001b[0;32m    262\u001b[0m \u001b[38;5;28;01mwith\u001b[39;00m \u001b[38;5;28mopen\u001b[39m(path, \u001b[38;5;124m\"\u001b[39m\u001b[38;5;124mrb\u001b[39m\u001b[38;5;124m\"\u001b[39m) \u001b[38;5;28;01mas\u001b[39;00m f:\n\u001b[0;32m    263\u001b[0m     img \u001b[38;5;241m=\u001b[39m Image\u001b[38;5;241m.\u001b[39mopen(f)\n\u001b[1;32m--> 264\u001b[0m     \u001b[38;5;28;01mreturn\u001b[39;00m \u001b[43mimg\u001b[49m\u001b[38;5;241;43m.\u001b[39;49m\u001b[43mconvert\u001b[49m\u001b[43m(\u001b[49m\u001b[38;5;124;43m\"\u001b[39;49m\u001b[38;5;124;43mRGB\u001b[39;49m\u001b[38;5;124;43m\"\u001b[39;49m\u001b[43m)\u001b[49m\n",
      "File \u001b[1;32mc:\\Users\\user\\anaconda3\\envs\\classification\\lib\\site-packages\\PIL\\Image.py:993\u001b[0m, in \u001b[0;36mImage.convert\u001b[1;34m(self, mode, matrix, dither, palette, colors)\u001b[0m\n\u001b[0;32m    990\u001b[0m \u001b[38;5;28;01mif\u001b[39;00m mode \u001b[38;5;129;01min\u001b[39;00m (\u001b[38;5;124m\"\u001b[39m\u001b[38;5;124mBGR;15\u001b[39m\u001b[38;5;124m\"\u001b[39m, \u001b[38;5;124m\"\u001b[39m\u001b[38;5;124mBGR;16\u001b[39m\u001b[38;5;124m\"\u001b[39m, \u001b[38;5;124m\"\u001b[39m\u001b[38;5;124mBGR;24\u001b[39m\u001b[38;5;124m\"\u001b[39m):\n\u001b[0;32m    991\u001b[0m     deprecate(mode, \u001b[38;5;241m12\u001b[39m)\n\u001b[1;32m--> 993\u001b[0m \u001b[38;5;28;43mself\u001b[39;49m\u001b[38;5;241;43m.\u001b[39;49m\u001b[43mload\u001b[49m\u001b[43m(\u001b[49m\u001b[43m)\u001b[49m\n\u001b[0;32m    995\u001b[0m has_transparency \u001b[38;5;241m=\u001b[39m \u001b[38;5;124m\"\u001b[39m\u001b[38;5;124mtransparency\u001b[39m\u001b[38;5;124m\"\u001b[39m \u001b[38;5;129;01min\u001b[39;00m \u001b[38;5;28mself\u001b[39m\u001b[38;5;241m.\u001b[39minfo\n\u001b[0;32m    996\u001b[0m \u001b[38;5;28;01mif\u001b[39;00m \u001b[38;5;129;01mnot\u001b[39;00m mode \u001b[38;5;129;01mand\u001b[39;00m \u001b[38;5;28mself\u001b[39m\u001b[38;5;241m.\u001b[39mmode \u001b[38;5;241m==\u001b[39m \u001b[38;5;124m\"\u001b[39m\u001b[38;5;124mP\u001b[39m\u001b[38;5;124m\"\u001b[39m:\n\u001b[0;32m    997\u001b[0m     \u001b[38;5;66;03m# determine default mode\u001b[39;00m\n",
      "File \u001b[1;32mc:\\Users\\user\\anaconda3\\envs\\classification\\lib\\site-packages\\PIL\\ImageFile.py:300\u001b[0m, in \u001b[0;36mImageFile.load\u001b[1;34m(self)\u001b[0m\n\u001b[0;32m    297\u001b[0m         \u001b[38;5;28;01mraise\u001b[39;00m \u001b[38;5;167;01mOSError\u001b[39;00m(msg)\n\u001b[0;32m    299\u001b[0m b \u001b[38;5;241m=\u001b[39m b \u001b[38;5;241m+\u001b[39m s\n\u001b[1;32m--> 300\u001b[0m n, err_code \u001b[38;5;241m=\u001b[39m \u001b[43mdecoder\u001b[49m\u001b[38;5;241;43m.\u001b[39;49m\u001b[43mdecode\u001b[49m\u001b[43m(\u001b[49m\u001b[43mb\u001b[49m\u001b[43m)\u001b[49m\n\u001b[0;32m    301\u001b[0m \u001b[38;5;28;01mif\u001b[39;00m n \u001b[38;5;241m<\u001b[39m \u001b[38;5;241m0\u001b[39m:\n\u001b[0;32m    302\u001b[0m     \u001b[38;5;28;01mbreak\u001b[39;00m\n",
      "\u001b[1;31mKeyboardInterrupt\u001b[0m: "
     ]
    }
   ],
   "source": [
    "#클래스별로 분배 잘됨, 모델이름 model3new.pth\n",
    "import os\n",
    "import torch\n",
    "import torch.nn as nn\n",
    "import torch.optim as optim\n",
    "from torch.utils.data import DataLoader, Dataset\n",
    "from torchvision import datasets, transforms\n",
    "from torchvision.models import efficientnet_b0, EfficientNet_B0_Weights\n",
    "import json\n",
    "import csv\n",
    "from sklearn.model_selection import train_test_split\n",
    "from tqdm import tqdm\n",
    "import numpy as np\n",
    "from torch.optim.lr_scheduler import StepLR\n",
    "from torch.cuda.amp import GradScaler, autocast  # 혼합 정밀도 학습\n",
    "\n",
    "os.environ[\"TORCH_COMPILE_DISABLE\"] = \"1\"\n",
    "os.environ[\"FUNCTORCH_COMPILE_DISABLE\"] = \"1\"\n",
    "\n",
    "# ✅ 하이퍼파라미터 설정\n",
    "batch_size = 32\n",
    "epochs = 1000\n",
    "learning_rate = 0.001\n",
    "early_stop_threshold = 0.99  # 얼리스탑 기준 (검증 정확도 99% 이상)\n",
    "device = torch.device('cuda' if torch.cuda.is_available() else 'cpu')\n",
    "\n",
    "# ✅ 경로 설정\n",
    "train_dir = 'C:/Users/user/OneDrive/Desktop/Resnet182-real/data/category_data4'\n",
    "json_dir = 'C:/Users/user/OneDrive/Desktop/Resnet182-real/jsonnew'\n",
    "csv_dir = 'C:/Users/user/OneDrive/Desktop/Resnet182-real/csv'\n",
    "model_dir = 'C:/Users/user/OneDrive/Desktop/Resnet182-real/model'\n",
    "\n",
    "# 필요한 디렉터리가 없으면 생성\n",
    "os.makedirs(json_dir, exist_ok=True)\n",
    "os.makedirs(csv_dir, exist_ok=True)\n",
    "os.makedirs(model_dir, exist_ok=True)\n",
    "\n",
    "# ✅ 데이터 전처리\n",
    "transform = transforms.Compose([\n",
    "    transforms.Resize((224, 224)),\n",
    "    transforms.ToTensor(),\n",
    "    transforms.Normalize(mean=[0.485, 0.456, 0.406], std=[0.229, 0.224, 0.225])\n",
    "])\n",
    "\n",
    "# ✅ 데이터셋 로드\n",
    "dataset = datasets.ImageFolder(root=train_dir, transform=transform)\n",
    "\n",
    "# ✅ 데이터 분할 (7:2:1 비율)\n",
    "train_data, temp_data = train_test_split(dataset.samples, test_size=0.3, stratify=dataset.targets)\n",
    "val_data, test_data = train_test_split(temp_data, test_size=0.33, stratify=[item[1] for item in temp_data])\n",
    "\n",
    "# ✅ JSON 파일로 데이터셋 저장\n",
    "train_json_path = os.path.join(json_dir, \"trainqwercopy.json\")\n",
    "val_json_path = os.path.join(json_dir, \"valqwercopy.json\")\n",
    "test_json_path = os.path.join(json_dir, \"testqwercopy.json\")\n",
    "\n",
    "with open(train_json_path, \"w\") as f:\n",
    "    json.dump(train_data, f)\n",
    "with open(val_json_path, \"w\") as f:\n",
    "    json.dump(val_data, f)\n",
    "with open(test_json_path, \"w\") as f:\n",
    "    json.dump(test_data, f)\n",
    "\n",
    "print(f\"✅ 학습 데이터 JSON 저장 완료: {train_json_path}\")\n",
    "print(f\"✅ 검증 데이터 JSON 저장 완료: {val_json_path}\")\n",
    "print(f\"✅ 테스트 데이터 JSON 저장 완료: {test_json_path}\")\n",
    "\n",
    "# ✅ 데이터셋을 위한 커스텀 클래스 정의\n",
    "class CustomDataset(Dataset):\n",
    "    def __init__(self, data, dataset, transform=None):\n",
    "        self.data = data\n",
    "        self.dataset = dataset\n",
    "        self.transform = transform\n",
    "\n",
    "    def __len__(self):\n",
    "        return len(self.data)\n",
    "\n",
    "    def __getitem__(self, idx):\n",
    "        img_path, label = self.data[idx]\n",
    "        image = self.dataset.loader(img_path)\n",
    "        if self.transform:\n",
    "            image = self.transform(image)\n",
    "        return image, label\n",
    "\n",
    "# ✅ 학습, 검증, 테스트 데이터로더 생성\n",
    "train_dataset = CustomDataset(train_data, dataset, transform)\n",
    "val_dataset = CustomDataset(val_data, dataset, transform)\n",
    "test_dataset = CustomDataset(test_data, dataset, transform)\n",
    "\n",
    "train_loader = DataLoader(train_dataset, batch_size=batch_size, shuffle=True)\n",
    "val_loader = DataLoader(val_dataset, batch_size=batch_size, shuffle=False)\n",
    "test_loader = DataLoader(test_dataset, batch_size=batch_size, shuffle=False)\n",
    "\n",
    "# ✅ EfficientNet-B0 모델 정의\n",
    "model = efficientnet_b0(weights=EfficientNet_B0_Weights.DEFAULT)\n",
    "model.classifier = nn.Sequential(\n",
    "    nn.Dropout(0.2),\n",
    "    nn.Linear(model.classifier[1].in_features, len(dataset.classes))\n",
    ")\n",
    "model = model.to(device)\n",
    "\n",
    "# ✅ 손실 함수 및 옵티마이저 설정\n",
    "criterion = nn.CrossEntropyLoss()\n",
    "optimizer = optim.Adam(model.parameters(), lr=learning_rate)\n",
    "\n",
    "# ✅ 학습률 스케줄러 설정\n",
    "scheduler = StepLR(optimizer, step_size=10, gamma=0.7)\n",
    "\n",
    "# ✅ 혼합 정밀도 학습 스케일러\n",
    "scaler = GradScaler()\n",
    "\n",
    "# ✅ 모델 성능을 평가하는 함수\n",
    "def evaluate(model, dataloader):\n",
    "    model.eval()\n",
    "    correct = 0\n",
    "    total = 0\n",
    "    running_loss = 0.0\n",
    "    with torch.no_grad():\n",
    "        for inputs, labels in dataloader:\n",
    "            inputs, labels = inputs.to(device), labels.to(device)\n",
    "            outputs = model(inputs)\n",
    "            loss = criterion(outputs, labels)\n",
    "            running_loss += loss.item()\n",
    "            _, predicted = torch.max(outputs.data, 1)\n",
    "            total += labels.size(0)\n",
    "            correct += (predicted == labels).sum().item()\n",
    "    accuracy = correct / total\n",
    "    avg_loss = running_loss / len(dataloader)\n",
    "    return accuracy, avg_loss\n",
    "\n",
    "# ✅ 학습 루프 추가\n",
    "best_val_acc = 0.0\n",
    "best_epoch = 0\n",
    "best_model_path = os.path.join(model_dir, 'model3newcopy.pth')\n",
    "epoch_log = []\n",
    "\n",
    "print(\"\\n📢 Training Started! Logging Every Epoch:\\n\")\n",
    "\n",
    "for epoch in range(epochs):\n",
    "    model.train()\n",
    "    running_loss = 0.0\n",
    "    correct = 0\n",
    "    total = 0\n",
    "\n",
    "    for inputs, labels in tqdm(train_loader, desc=f\"📢 Epoch [{epoch+1}/{epochs}] 시작\"):\n",
    "        inputs, labels = inputs.to(device), labels.to(device)\n",
    "        optimizer.zero_grad()\n",
    "        with autocast():\n",
    "            outputs = model(inputs)\n",
    "            loss = criterion(outputs, labels)\n",
    "        scaler.scale(loss).backward()\n",
    "        scaler.step(optimizer)\n",
    "        scaler.update()\n",
    "        running_loss += loss.item()\n",
    "        _, predicted = torch.max(outputs.data, 1)\n",
    "        total += labels.size(0)\n",
    "        correct += (predicted == labels).sum().item()\n",
    "\n",
    "    train_acc = correct / total\n",
    "    train_loss = running_loss / len(train_loader)\n",
    "    val_acc, val_loss = evaluate(model, val_loader)\n",
    "\n",
    "    if val_acc > best_val_acc:\n",
    "        best_val_acc = val_acc\n",
    "        best_epoch = epoch + 1\n",
    "        torch.save(model.state_dict(), best_model_path)\n",
    "        print(f\"✅ 새로운 최고 검증 정확도 {best_val_acc:.4f} (Loss: {val_loss:.4f}) 달성! 모델 저장됨 (에포크 {best_epoch})\")\n",
    "\n",
    "    epoch_log.append([epoch + 1, train_acc, train_loss, val_acc, val_loss])\n",
    "    print(f\"   🎯 Train Accuracy: {train_acc:.4f} | 📉 Train Loss: {train_loss:.4f} \"\n",
    "        f\"| 🎯 Valid Accuracy: {val_acc:.4f} | 📉 Valid Loss: {val_loss:.4f}\")\n",
    "\n",
    "    if val_acc >= early_stop_threshold:\n",
    "        print(f\"🚨 얼리스탑! 검증 정확도가 {val_acc:.4f}로 0.99에 도달하여 학습을 종료합니다.\")\n",
    "        break\n",
    "\n",
    "    scheduler.step()\n",
    "\n",
    "# ✅ 학습 기록을 CSV 파일로 저장\n",
    "with open(os.path.join(csv_dir, 'qwercopy.csv'), 'w', newline='') as file:\n",
    "    writer = csv.writer(file)\n",
    "    writer.writerow(['Epoch', 'Train Accuracy', 'Train Loss', 'Val Accuracy', 'Val Loss'])\n",
    "    writer.writerows(epoch_log)\n",
    "\n",
    "# ✅ 최종 모델을 테스트 데이터로 평가\n",
    "test_acc, test_loss = evaluate(model, test_loader)\n",
    "print(f\"🎯 Test Accuracy: {test_acc:.4f}, 📉 Test Loss: {test_loss:.4f}\")\n"
   ]
  }
 ],
 "metadata": {
  "kernelspec": {
   "display_name": "classification",
   "language": "python",
   "name": "python3"
  },
  "language_info": {
   "codemirror_mode": {
    "name": "ipython",
    "version": 3
   },
   "file_extension": ".py",
   "mimetype": "text/x-python",
   "name": "python",
   "nbconvert_exporter": "python",
   "pygments_lexer": "ipython3",
   "version": "3.9.21"
  }
 },
 "nbformat": 4,
 "nbformat_minor": 2
}
