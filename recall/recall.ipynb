{
 "cells": [
  {
   "cell_type": "code",
   "execution_count": 3,
   "metadata": {},
   "outputs": [
    {
     "name": "stdout",
     "output_type": "stream",
     "text": [
      "📌 Train 정확도: 4280/4281 (99.98%)\n",
      "📌 Val 정확도: 1170/1229 (95.20%)\n",
      "📌 Test 정확도: 574/606 (94.72%)\n"
     ]
    }
   ],
   "source": [
    "import os\n",
    "import json\n",
    "import torch\n",
    "import torch.nn as nn\n",
    "from torch.utils.data import DataLoader, Dataset\n",
    "from torchvision import transforms\n",
    "from torchvision.models import efficientnet_b0, EfficientNet_B0_Weights\n",
    "from PIL import Image\n",
    "\n",
    "# ✅ 경로 설정\n",
    "model_path = r\"C:\\Users\\user\\OneDrive\\Desktop\\Resnet182-real\\model\\model3newcopy2.pth\"\n",
    "json_dir = r\"C:\\Users\\user\\OneDrive\\Desktop\\Resnet182-real\\jsonnew\"\n",
    "\n",
    "train_json_path = os.path.join(json_dir, \"trainqwercopy2.json\")\n",
    "val_json_path = os.path.join(json_dir, \"valqwercopy2.json\")\n",
    "test_json_path = os.path.join(json_dir, \"testqwercopy2.json\")\n",
    "\n",
    "# ✅ 데이터 전처리 설정\n",
    "transform = transforms.Compose([\n",
    "    transforms.Resize((224, 224)),\n",
    "    transforms.ToTensor(),\n",
    "    transforms.Normalize(mean=[0.485, 0.456, 0.406], std=[0.229, 0.224, 0.225])\n",
    "])\n",
    "\n",
    "# ✅ JSON 데이터 로드\n",
    "def load_json_data(json_path):\n",
    "    with open(json_path, \"r\") as f:\n",
    "        return json.load(f)\n",
    "\n",
    "train_data = load_json_data(train_json_path)\n",
    "val_data = load_json_data(val_json_path)\n",
    "test_data = load_json_data(test_json_path)\n",
    "\n",
    "# ✅ 데이터셋 클래스 정의\n",
    "class CustomDataset(Dataset):\n",
    "    def __init__(self, data, transform=None):\n",
    "        self.data = data\n",
    "        self.transform = transform\n",
    "\n",
    "    def __len__(self):\n",
    "        return len(self.data)\n",
    "\n",
    "    def __getitem__(self, idx):\n",
    "        img_path, label = self.data[idx]\n",
    "        image = Image.open(img_path).convert(\"RGB\")\n",
    "\n",
    "        if self.transform:\n",
    "            image = self.transform(image)\n",
    "\n",
    "        return image, label\n",
    "\n",
    "# ✅ 데이터 로더 생성\n",
    "batch_size = 32\n",
    "train_dataset = CustomDataset(train_data, transform)\n",
    "val_dataset = CustomDataset(val_data, transform)\n",
    "test_dataset = CustomDataset(test_data, transform)\n",
    "\n",
    "train_loader = DataLoader(train_dataset, batch_size=batch_size, shuffle=False)\n",
    "val_loader = DataLoader(val_dataset, batch_size=batch_size, shuffle=False)\n",
    "test_loader = DataLoader(test_dataset, batch_size=batch_size, shuffle=False)\n",
    "\n",
    "# ✅ 모델 로드 및 가중치 적용\n",
    "device = torch.device(\"cuda\" if torch.cuda.is_available() else \"cpu\")\n",
    "model = efficientnet_b0(weights=None)  # 기존 모델 구조\n",
    "model.classifier[1] = nn.Linear(model.classifier[1].in_features, len(set([item[1] for item in train_data])))  # 클래스 개수 조정\n",
    "model.load_state_dict(torch.load(model_path, map_location=device))\n",
    "model = model.to(device)\n",
    "model.eval()\n",
    "\n",
    "# ✅ 정확도 평가 함수\n",
    "def evaluate(model, dataloader):\n",
    "    correct = 0\n",
    "    total = 0\n",
    "\n",
    "    with torch.no_grad():\n",
    "        for images, labels in dataloader:\n",
    "            images, labels = images.to(device), labels.to(device)\n",
    "            outputs = model(images)\n",
    "            _, predicted = torch.max(outputs, 1)\n",
    "\n",
    "            total += labels.size(0)\n",
    "            correct += (predicted == labels).sum().item()\n",
    "\n",
    "    accuracy = correct / total\n",
    "    return correct, total, accuracy\n",
    "\n",
    "# ✅ 각 데이터셋별 평가 실행\n",
    "train_correct, train_total, train_acc = evaluate(model, train_loader)\n",
    "val_correct, val_total, val_acc = evaluate(model, val_loader)\n",
    "test_correct, test_total, test_acc = evaluate(model, test_loader)\n",
    "\n",
    "# ✅ 결과 출력\n",
    "print(f\"📌 Train 정확도: {train_correct}/{train_total} ({train_acc * 100:.2f}%)\")\n",
    "print(f\"📌 Val 정확도: {val_correct}/{val_total} ({val_acc * 100:.2f}%)\")\n",
    "print(f\"📌 Test 정확도: {test_correct}/{test_total} ({test_acc * 100:.2f}%)\")\n"
   ]
  },
  {
   "cell_type": "code",
   "execution_count": 5,
   "metadata": {},
   "outputs": [
    {
     "name": "stdout",
     "output_type": "stream",
     "text": [
      "✅ 데이터 로드 완료: Train(4767), Val(1368), Test(675)\n"
     ]
    },
    {
     "name": "stderr",
     "output_type": "stream",
     "text": [
      "🔍 Train 데이터셋 오류 이미지 저장: 100%|██████████| 149/149 [01:00<00:00,  2.47it/s]\n"
     ]
    },
    {
     "name": "stdout",
     "output_type": "stream",
     "text": [
      "✅ Train: 총 0개의 틀린 이미지 저장 완료!\n"
     ]
    },
    {
     "name": "stderr",
     "output_type": "stream",
     "text": [
      "🔍 Validation 데이터셋 오류 이미지 저장: 100%|██████████| 43/43 [00:17<00:00,  2.48it/s]\n"
     ]
    },
    {
     "name": "stdout",
     "output_type": "stream",
     "text": [
      "✅ Validation: 총 86개의 틀린 이미지 저장 완료!\n"
     ]
    },
    {
     "name": "stderr",
     "output_type": "stream",
     "text": [
      "🔍 Test 데이터셋 오류 이미지 저장: 100%|██████████| 22/22 [00:08<00:00,  2.64it/s]"
     ]
    },
    {
     "name": "stdout",
     "output_type": "stream",
     "text": [
      "✅ Test: 총 38개의 틀린 이미지 저장 완료!\n"
     ]
    },
    {
     "name": "stderr",
     "output_type": "stream",
     "text": [
      "\n"
     ]
    }
   ],
   "source": [
    "import os\n",
    "import json\n",
    "import shutil\n",
    "import torch\n",
    "import torch.nn as nn  # ✅ 오류 해결: torch.nn 추가\n",
    "from tqdm import tqdm\n",
    "from torch.utils.data import DataLoader, Dataset\n",
    "from torchvision import transforms\n",
    "from torchvision.models import efficientnet_b0, EfficientNet_B0_Weights\n",
    "from PIL import Image\n",
    "\n",
    "# ✅ 경로 설정\n",
    "json_dir = r\"C:\\Users\\user\\OneDrive\\Desktop\\Resnet182-real\\jsonnew\"\n",
    "recall_root = r\"C:\\Users\\user\\OneDrive\\Desktop\\Resnet182-real\\recall\"\n",
    "misclassified_root = os.path.join(recall_root, \"misclassified_data\")\n",
    "original_dataset_root = r\"C:\\Users\\user\\OneDrive\\Desktop\\Resnet182-real\\data\\category_data3\"\n",
    "\n",
    "# ✅ JSON 데이터 로드\n",
    "def load_json_data(json_path):\n",
    "    with open(json_path, \"r\") as f:\n",
    "        return json.load(f)\n",
    "\n",
    "train_data = load_json_data(os.path.join(json_dir, \"trainqwer.json\"))\n",
    "val_data = load_json_data(os.path.join(json_dir, \"valqwer.json\"))\n",
    "test_data = load_json_data(os.path.join(json_dir, \"testqwer.json\"))\n",
    "\n",
    "print(f\"✅ 데이터 로드 완료: Train({len(train_data)}), Val({len(val_data)}), Test({len(test_data)})\")\n",
    "\n",
    "# ✅ 데이터 변환 설정\n",
    "transform = transforms.Compose([\n",
    "    transforms.Resize((224, 224)),\n",
    "    transforms.ToTensor(),\n",
    "    transforms.Normalize(mean=[0.485, 0.456, 0.406], std=[0.229, 0.224, 0.225])\n",
    "])\n",
    "\n",
    "# ✅ 데이터셋 클래스 정의 (파일 경로 포함)\n",
    "class CustomDatasetWithPaths(Dataset):\n",
    "    def __init__(self, data, transform=None):\n",
    "        self.data = data\n",
    "        self.transform = transform\n",
    "\n",
    "    def __len__(self):\n",
    "        return len(self.data)\n",
    "\n",
    "    def __getitem__(self, idx):\n",
    "        img_path, label = self.data[idx]\n",
    "        image = Image.open(img_path).convert(\"RGB\")\n",
    "        if self.transform:\n",
    "            image = self.transform(image)\n",
    "        return image, label, img_path\n",
    "\n",
    "# ✅ 데이터로더 생성\n",
    "batch_size = 32\n",
    "train_loader_paths = DataLoader(CustomDatasetWithPaths(train_data, transform), batch_size=batch_size, shuffle=False)\n",
    "val_loader_paths = DataLoader(CustomDatasetWithPaths(val_data, transform), batch_size=batch_size, shuffle=False)\n",
    "test_loader_paths = DataLoader(CustomDatasetWithPaths(test_data, transform), batch_size=batch_size, shuffle=False)\n",
    "\n",
    "# ✅ 모델 로드 및 평가 함수\n",
    "device = torch.device(\"cuda\" if torch.cuda.is_available() else \"cpu\")\n",
    "model_path = r\"C:\\Users\\user\\OneDrive\\Desktop\\Resnet182-real\\model\\model3new.pth\"\n",
    "model = efficientnet_b0(weights=None)\n",
    "model.classifier[1] = nn.Linear(model.classifier[1].in_features, len(set([item[1] for item in train_data])))  # ✅ 오류 해결\n",
    "model.load_state_dict(torch.load(model_path, map_location=device))\n",
    "model = model.to(device)\n",
    "model.eval()\n",
    "\n",
    "# ✅ 틀린 이미지 저장 함수\n",
    "def save_misclassified_images(model, dataloader, dataset_name):\n",
    "    model.eval()\n",
    "    misclassified_count = 0\n",
    "\n",
    "    with torch.no_grad():\n",
    "        for images, labels, paths in tqdm(dataloader, desc=f\"🔍 {dataset_name} 데이터셋 오류 이미지 저장\"):\n",
    "            images, labels = images.to(device), labels.to(device)\n",
    "            outputs = model(images)\n",
    "            _, predicted = torch.max(outputs, 1)\n",
    "\n",
    "            for img_path, pred, label in zip(paths, predicted.cpu().numpy(), labels.cpu().numpy()):\n",
    "                if pred != label:\n",
    "                    # ✅ 원본 디렉토리 구조 유지하여 저장\n",
    "                    relative_path = os.path.relpath(img_path, original_dataset_root)\n",
    "                    save_path = os.path.join(misclassified_root, relative_path)\n",
    "\n",
    "                    # ✅ 폴더 생성 후 이미지 복사\n",
    "                    os.makedirs(os.path.dirname(save_path), exist_ok=True)\n",
    "                    shutil.copy(img_path, save_path)\n",
    "                    misclassified_count += 1\n",
    "\n",
    "    print(f\"✅ {dataset_name}: 총 {misclassified_count}개의 틀린 이미지 저장 완료!\")\n",
    "\n",
    "# ✅ 틀린 이미지 저장 실행\n",
    "save_misclassified_images(model, train_loader_paths, \"Train\")\n",
    "save_misclassified_images(model, val_loader_paths, \"Validation\")\n",
    "save_misclassified_images(model, test_loader_paths, \"Test\")\n"
   ]
  }
 ],
 "metadata": {
  "kernelspec": {
   "display_name": "classification",
   "language": "python",
   "name": "python3"
  },
  "language_info": {
   "codemirror_mode": {
    "name": "ipython",
    "version": 3
   },
   "file_extension": ".py",
   "mimetype": "text/x-python",
   "name": "python",
   "nbconvert_exporter": "python",
   "pygments_lexer": "ipython3",
   "version": "3.9.21"
  }
 },
 "nbformat": 4,
 "nbformat_minor": 2
}
